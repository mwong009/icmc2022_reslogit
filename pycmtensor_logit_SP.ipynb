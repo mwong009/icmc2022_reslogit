{
 "cells": [
  {
   "cell_type": "code",
   "execution_count": 1,
   "metadata": {},
   "outputs": [
    {
     "data": {
      "text/plain": [
       "'0.6.1'"
      ]
     },
     "execution_count": 1,
     "metadata": {},
     "output_type": "execute_result"
    }
   ],
   "source": [
    "import os\n",
    "import dill as pickle\n",
    "import pandas as pd\n",
    "import pycmtensor as cmt\n",
    "from pycmtensor import aet as aet\n",
    "from pycmtensor.expressions import Beta, Weights\n",
    "from pycmtensor.optimizers import Adam\n",
    "from pycmtensor.results import Results\n",
    "from pycmtensor.models import MNLogit\n",
    "from reslogitlayer import ResLogitLayer\n",
    "\n",
    "cmt.logger.set_level(cmt.logger.WARNING)\n",
    "cmt.__version__"
   ]
  },
  {
   "cell_type": "code",
   "execution_count": 2,
   "metadata": {},
   "outputs": [
    {
     "name": "stdout",
     "output_type": "stream",
     "text": [
      "dataset: model_average_sp (n=2790)\n",
      "batch size: 128\n",
      "iterations per epoch: 21\n"
     ]
    },
    {
     "data": {
      "application/vnd.jupyter.widget-view+json": {
       "model_id": "a9096c871f864803b406be695fc95f86",
       "version_major": 2,
       "version_minor": 0
      },
      "text/plain": [
       "Loglikelihood:  -1955.497  Score: 0.498"
      ]
     },
     "metadata": {},
     "output_type": "display_data"
    },
    {
     "data": {
      "application/vnd.jupyter.widget-view+json": {
       "model_id": "239fafe3ee6440568e7caf908c1189dc",
       "version_major": 2,
       "version_minor": 0
      },
      "text/plain": [
       "Epoch    0/18900:   0%|          | 0.00/18.9k [00:00<?, ?it/s]"
      ]
     },
     "metadata": {},
     "output_type": "display_data"
    },
    {
     "name": "stderr",
     "output_type": "stream",
     "text": [
      "[2022-03-09 14:05:09] WARNING: Maximum patience reached. Early stopping...\n"
     ]
    },
    {
     "name": "stdout",
     "output_type": "stream",
     "text": [
      "Optimization complete with accuracy of 79.677%. Max loglikelihood reached @ epoch 899.\n",
      "\n",
      "Results for model: mymodel\n",
      "Build time: 00:00:17\n",
      "Estimation time: 00:00:42\n",
      "Estimation rate: 21.636 epochs/s\n",
      "Seed value: 999\n",
      "Number of Beta parameters: 11\n",
      "Tensor size: 40\n",
      "Sample size: 2790\n",
      "Excluded data: 0\n",
      "Init loglikelihood: -1955.497\n",
      "Final loglikelihood: -1281.076\n",
      "Final loglikelihood reached at: epoch 899\n",
      "Likelihood ratio test: 1348.842\n",
      "Accuracy: 79.677%\n",
      "Rho square: 0.345\n",
      "Rho bar square: 0.319\n",
      "Akaike Information Criterion: 2664.15\n",
      "Bayesian Information Criterion: 2966.78\n",
      "Final gradient norm: 0.027\n",
      "\n"
     ]
    }
   ],
   "source": [
    "nb_path = os.path.abspath(\"\")\n",
    "model_average_sp = pd.read_csv(\"data/model_average_SP.csv\")\n",
    "model_average_sp.columns = model_average_sp.columns.str.upper()\n",
    "# model_average_sp[[\"AV1\", \"AV2\"]] = 1\n",
    "db = cmt.Database(\"model_average_sp\", model_average_sp, choiceVar=\"CHOICE\")\n",
    "globals().update(db.variables)\n",
    "\n",
    "# additional steps to format database\n",
    "db.data[\"CHOICE\"] -= 1\n",
    "c = db.data.loc[:, \"TT1\":\"HH_INC_ABS\"].columns.to_list()\n",
    "db.autoscale(variables=c, verbose=False)\n",
    "\n",
    "# specify Beta parameters\n",
    "b_cost = Beta(\"b_cost\", 0.0, None, None, 0)\n",
    "b_time = Beta(\"b_time\", 0.0, None, None, 0)\n",
    "b_hw = Beta(\"b_hw\", 0.0, None, None, 0)\n",
    "b_ch = Beta(\"b_ch\", 0.0, None, None, 0)\n",
    "b_hh_inc1 = Beta(\"b_hh_inc1\", 0.0, None, None, 1)\n",
    "b_hh_inc2 = Beta(\"b_hh_inc2\", 0.0, None, None, 0)\n",
    "b_carav1 = Beta(\"b_carav1\", 0.0, None, None, 0)\n",
    "b_carav2 = Beta(\"b_carav2\", 0.0, None, None, 1)\n",
    "b_com = Beta(\"b_com\", 0.0, None, None, 0)\n",
    "b_shop = Beta(\"b_shop\", 0.0, None, None, 0)\n",
    "b_bis = Beta(\"b_bis\", 0.0, None, None, 0)\n",
    "b_lei = Beta(\"b_lei\", 0.0, None, None, 0)\n",
    "asc_alt1 = Beta(\"asc_alt1\", 0.0, None, None, 0)\n",
    "asc_alt2 = Beta(\"asc_alt2\", 0.0, None, None, 1)\n",
    "\n",
    "# specify weight parameters\n",
    "W1 = Weights(\"ResNet_01a\", (2, 10), 0, True)\n",
    "W2 = Weights(\"ResNet_01b\", (10, 2), 0, True)\n",
    "\n",
    "U_1 = (\n",
    "    b_cost * db[\"TC1\"]\n",
    "    + b_time * db[\"TT1\"]\n",
    "    + b_hw * db[\"HW1\"]\n",
    "    + b_ch * db[\"CH1\"]\n",
    "    + b_hh_inc1 * db[\"HH_INC_ABS\"]\n",
    "    + b_carav1 * db[\"CAR_AVAILABILITY\"]\n",
    "    + b_com * db[\"COMMUTE\"]\n",
    "    + b_bis * db[\"BUSINESS\"]\n",
    "    + asc_alt1\n",
    ")\n",
    "U_2 = (\n",
    "    b_cost * db[\"TC2\"]\n",
    "    + b_time * db[\"TT2\"]\n",
    "    + b_hw * db[\"HW2\"]\n",
    "    + b_ch * db[\"CH2\"]\n",
    "    + b_hh_inc2 * db[\"HH_INC_ABS\"]\n",
    "    + b_shop * db[\"SHOPPING\"]\n",
    "    + b_lei * db[\"LEISURE\"]\n",
    "    + b_carav2 * db[\"CAR_AVAILABILITY\"]\n",
    "    + asc_alt2\n",
    ")\n",
    "\n",
    "# Associate utility functions with the list\n",
    "U = [U_1, U_2]\n",
    "\n",
    "U = ResLogitLayer(U, W1, W2).output\n",
    "\n",
    "# Associate the availability conditions with the alternatives\n",
    "# av = [db[\"AV1\"], db[\"AV2\"]]\n",
    "\n",
    "# rll = ResLogitLayer(U, W1, W2)\n",
    "model = MNLogit(U, av=None, database=db, name=\"mymodel\")\n",
    "model.add_params(locals())\n",
    "model.config[\"patience\"] = 36000\n",
    "model.config[\"base_lr\"] = 0.005\n",
    "model.config[\"max_lr\"] = 0.01\n",
    "model.config[\"cyclic_lr_step_size\"] = 32\n",
    "\n",
    "\n",
    "# train function\n",
    "model = cmt.train(\n",
    "    model,\n",
    "    database=db,\n",
    "    optimizer=Adam,\n",
    "    batch_size=128,\n",
    "    max_epoch=900,\n",
    "    notebook=True,\n",
    ")\n",
    "\n",
    "with open(\"mymodel.pkl\", \"rb\") as f:\n",
    "    model = pickle.load(f)\n",
    "\n",
    "result = Results(model, db, show_weights=True)\n"
   ]
  },
  {
   "cell_type": "code",
   "execution_count": 4,
   "metadata": {},
   "outputs": [
    {
     "name": "stdout",
     "output_type": "stream",
     "text": [
      "Statistical Analysis:\n",
      "              Value   Std err    t-test   p-value Rob. Std err Rob. t-test Rob. p-value\n",
      "asc_alt1   0.220101   0.68068  0.323354  0.746427     0.328108    0.670819     0.502336\n",
      "b_bis     -0.303434   0.69825 -0.434563   0.66388     0.280392   -1.082176     0.279174\n",
      "b_carav1  -0.107228  0.044603 -2.404054  0.016214     0.009731  -11.019657          0.0\n",
      "b_ch      -0.601576   0.04428 -13.58582       0.0     0.016956  -35.477942          0.0\n",
      "b_com     -0.099198  0.680518 -0.145768  0.884105     0.305341   -0.324874     0.745276\n",
      "b_cost    -9.763682  1.243631 -7.850949       0.0     0.044437   -219.7172          0.0\n",
      "b_hh_inc2  0.007594  0.042546  0.178479  0.858346     0.018091    0.419734     0.674679\n",
      "b_hw      -0.240083  0.018153  -13.2253       0.0     0.004854  -49.464296          0.0\n",
      "b_lei      0.090374  0.683498  0.132223  0.894808     0.335096    0.269696     0.787394\n",
      "b_shop      0.03144  0.702134  0.044778  0.964284     0.389884    0.080639     0.935729\n",
      "b_time    -4.223419  0.391579  -10.7856       0.0     0.079601  -53.057439          0.0\n",
      "\n",
      "Correlation matrix:\n",
      "             b_cost    b_time      b_hw      b_ch  b_hh_inc2  b_carav1     b_com    b_shop     b_bis     b_lei  asc_alt1\n",
      "b_cost     1.000000  0.811888  0.404009  0.387250  -0.011521  0.006225  0.439518 -0.436447  0.461810 -0.443495 -0.445425\n",
      "b_time     0.811888  1.000000  0.584987  0.645820  -0.000149  0.031127  0.194450 -0.185708  0.220462 -0.197933 -0.199201\n",
      "b_hw       0.404009  0.584987  1.000000  0.767706  -0.014196  0.063775  0.048550 -0.051384  0.065338 -0.050707 -0.053624\n",
      "b_ch       0.387250  0.645820  0.767706  1.000000   0.038952  0.136756 -0.129279  0.146018 -0.112911  0.132661  0.132136\n",
      "b_hh_inc2 -0.011521 -0.000149 -0.014196  0.038952   1.000000  0.288494  0.083060 -0.071694  0.087692 -0.067873 -0.032973\n",
      "b_carav1   0.006225  0.031127  0.063775  0.136756   0.288494  1.000000 -0.020718  0.013795 -0.032539  0.026628  0.018240\n",
      "b_com      0.439518  0.194450  0.048550 -0.129279   0.083060 -0.020718  1.000000 -0.993834  0.988091 -0.997975 -0.997376\n",
      "b_shop    -0.436447 -0.185708 -0.051384  0.146018  -0.071694  0.013795 -0.993834  1.000000 -0.984091  0.994485  0.994529\n",
      "b_bis      0.461810  0.220462  0.065338 -0.112911   0.087692 -0.032539  0.988091 -0.984091  1.000000 -0.988460 -0.987410\n",
      "b_lei     -0.443495 -0.197933 -0.050707  0.132661  -0.067873  0.026628 -0.997975  0.994485 -0.988460  1.000000  0.998481\n",
      "asc_alt1  -0.445425 -0.199201 -0.053624  0.132136  -0.032973  0.018240 -0.997376  0.994529 -0.987410  0.998481  1.000000\n",
      "\n",
      "ResNet_01a (2, 10) init: random\n",
      "[[ 1.49528523  2.16524469 -1.39412281  1.10808672 -1.45827526 -1.12019799\n",
      "   1.85788125 -1.9355664   2.01337716 -1.48618032]\n",
      " [-0.97759685 -1.56912877  1.92540869 -1.57482585  2.0206727   1.59039905\n",
      "  -1.2967437   1.37807841 -1.4372757   2.06002952]]\n",
      "\n",
      "ResNet_01b (10, 2) init: random\n",
      "[[ 3.05524486 -1.25041955]\n",
      " [ 5.31523675 -4.94817639]\n",
      " [-6.42730164  4.69357797]\n",
      " [ 1.26412501 -1.45406426]\n",
      " [-6.22159072  5.83126154]\n",
      " [-3.93411713  3.05919776]\n",
      " [ 4.20737868 -3.89878429]\n",
      " [-1.70987669  1.10739748]\n",
      " [ 5.86060761 -4.99151096]\n",
      " [-5.76213025  5.70234001]]\n",
      "\n"
     ]
    }
   ],
   "source": [
    "result.print_beta_statistics()\n",
    "result.print_correlation_matrix()\n",
    "result.print_nn_weights()\n"
   ]
  },
  {
   "cell_type": "code",
   "execution_count": 10,
   "metadata": {},
   "outputs": [
    {
     "data": {
      "image/png": "[encoded data removed]",
      "text/plain": [
       "<Figure size 864x216 with 3 Axes>"
      ]
     },
     "metadata": {},
     "output_type": "display_data"
    }
   ],
   "source": [
    "import seaborn as sns\n",
    "import matplotlib.pyplot as plt\n",
    "sns.set_style(\"ticks\")\n",
    "sns.set_context(\"notebook\", font_scale=1., rc={\"lines.linewidth\": 1.2})\n",
    "log = model.tracker.get_data()\n",
    "fig, axs = plt.subplots(1, 3, figsize=(12, 3), squeeze=False)\n",
    "g1 = sns.lineplot(ax=axs[0, 0], data=log, x=log.index, y=\"full_ll\", color='red') \n",
    "g2 = sns.lineplot(ax=axs[0, 1], data=log, x=log.index, y=\"lr\", color='red')\n",
    "g3 = sns.lineplot(ax=axs[0, 2],data=log, x=log.index, y=\"score\", color='red') # y = score or full_ll or lr\n",
    "g1.set(xscale=\"log\", xlabel=\"iterations\", ylabel=\"log likelihood\")\n",
    "g2.set(xscale=\"log\", xlabel=\"iterations\", ylabel=\"learning rate\")\n",
    "g3.set(xscale=\"log\", xlabel=\"iterations\", ylabel=\"accuracy\")\n",
    "sns.despine()\n",
    "plt.tight_layout()\n",
    "plt.show()"
   ]
  }
 ],
 "metadata": {
  "interpreter": {
   "hash": "575f4c83e6c945bf6b436f32137fdb9e47ae52ca23c478d1236c3bc0f888c6b0"
  },
  "kernelspec": {
   "display_name": "Python 3.9.7 ('icmc-comp')",
   "language": "python",
   "name": "python3"
  },
  "language_info": {
   "codemirror_mode": {
    "name": "ipython",
    "version": 3
   },
   "file_extension": ".py",
   "mimetype": "text/x-python",
   "name": "python",
   "nbconvert_exporter": "python",
   "pygments_lexer": "ipython3",
   "version": "3.9.7"
  },
  "orig_nbformat": 4
 },
 "nbformat": 4,
 "nbformat_minor": 2
}
