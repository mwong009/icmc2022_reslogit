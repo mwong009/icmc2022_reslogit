{
 "cells": [
  {
   "cell_type": "markdown",
   "metadata": {},
   "source": [
    "# SP dataset\n",
    "\n",
    "PyCMTensor ResLogit Model\n"
   ]
  },
  {
   "cell_type": "markdown",
   "metadata": {},
   "source": [
    "We import the dataset into the `cmt.Database()` class and indicate the choice column in the argument `choiceVar`."
   ]
  },
  {
   "cell_type": "code",
   "execution_count": 1,
   "metadata": {},
   "outputs": [],
   "source": [
    "import os\n",
    "import pandas as pd\n",
    "import pycmtensor as cmt\n",
    "cmt.__version__\n",
    "cmt.logger.set_level(cmt.logger.ERROR)\n",
    "\n",
    "# read csv file and set columns to UPPERCASE\n",
    "nb_path = os.path.abspath(\"\")\n",
    "model_average_sp = pd.read_csv(\"data/model_average_SP.csv\")\n",
    "model_average_sp.columns = model_average_sp.columns.str.upper()\n",
    "\n",
    "# load database\n",
    "db = cmt.Database(\"model_average_sp\", model_average_sp, choiceVar=\"CHOICE\")\n",
    "globals().update(db.variables)"
   ]
  },
  {
   "cell_type": "markdown",
   "metadata": {},
   "source": [
    "## Data preparation\n",
    "We perform some data cleaning and setting the choices to start from index 0."
   ]
  },
  {
   "cell_type": "code",
   "execution_count": 2,
   "metadata": {},
   "outputs": [],
   "source": [
    "# additional steps to format database\n",
    "db.data[\"CHOICE\"] -= 1\n",
    "c = db.data.loc[:, \"TT1\":\"HH_INC_ABS\"].columns.to_list()\n",
    "db.autoscale(variables=c, verbose=False)"
   ]
  },
  {
   "cell_type": "markdown",
   "metadata": {},
   "source": [
    "## Model specification\n",
    "from the `pycmtensor` library, we import two classes to help us define the betas and (neural network) weights."
   ]
  },
  {
   "cell_type": "code",
   "execution_count": 3,
   "metadata": {},
   "outputs": [],
   "source": [
    "from pycmtensor.expressions import Beta, Weights\n",
    "\n",
    "# specify Beta parameters\n",
    "b_cost = Beta(\"b_cost\", 0.0, None, None, 0)\n",
    "b_time = Beta(\"b_time\", 0.0, None, None, 0)\n",
    "b_hw = Beta(\"b_hw\", 0.0, None, None, 0)\n",
    "b_ch = Beta(\"b_ch\", 0.0, None, None, 0)\n",
    "b_hh_inc1 = Beta(\"b_hh_inc1\", 0.0, None, None, 1)  # do not estimate\n",
    "b_hh_inc2 = Beta(\"b_hh_inc2\", 0.0, None, None, 0)\n",
    "b_carav1 = Beta(\"b_carav1\", 0.0, None, None, 0)\n",
    "b_carav2 = Beta(\"b_carav2\", 0.0, None, None, 1)  # do not estimate\n",
    "b_com = Beta(\"b_com\", 0.0, None, None, 0)\n",
    "b_shop = Beta(\"b_shop\", 0.0, None, None, 0)\n",
    "b_bis = Beta(\"b_bis\", 0.0, None, None, 0)\n",
    "b_lei = Beta(\"b_lei\", 0.0, None, None, 0)\n",
    "asc_alt1 = Beta(\"asc_alt1\", 0.0, None, None, 0)\n",
    "asc_alt2 = Beta(\"asc_alt2\", 0.0, None, None, 1)  # do not estimate\n",
    "\n",
    "# specify weight parameters\n",
    "W1 = Weights(\"ResNet_01a\", (2, 16), 0, True)\n",
    "W2 = Weights(\"ResNet_01b\", (16, 2), 0, True)"
   ]
  },
  {
   "cell_type": "markdown",
   "metadata": {},
   "source": [
    "We specify the utility functions for the two choices respectively as `U_1` and `U_2`."
   ]
  },
  {
   "cell_type": "code",
   "execution_count": 4,
   "metadata": {},
   "outputs": [],
   "source": [
    "\n",
    "U_1 = (\n",
    "    b_cost * db[\"TC1\"]\n",
    "    + b_time * db[\"TT1\"]\n",
    "    + b_hw * db[\"HW1\"]\n",
    "    + b_ch * db[\"CH1\"]\n",
    "    + b_hh_inc1 * db[\"HH_INC_ABS\"]\n",
    "    + b_carav1 * db[\"CAR_AVAILABILITY\"]\n",
    "    + b_com * db[\"COMMUTE\"]\n",
    "    + b_bis * db[\"BUSINESS\"]\n",
    "    + asc_alt1\n",
    ")\n",
    "U_2 = (\n",
    "    b_cost * db[\"TC2\"]\n",
    "    + b_time * db[\"TT2\"]\n",
    "    + b_hw * db[\"HW2\"]\n",
    "    + b_ch * db[\"CH2\"]\n",
    "    + b_hh_inc2 * db[\"HH_INC_ABS\"]\n",
    "    + b_shop * db[\"SHOPPING\"]\n",
    "    + b_lei * db[\"LEISURE\"]\n",
    "    + b_carav2 * db[\"CAR_AVAILABILITY\"]\n",
    "    + asc_alt2\n",
    ")\n",
    "\n",
    "# Associate utility functions with the list\n",
    "U = [U_1, U_2]"
   ]
  },
  {
   "cell_type": "markdown",
   "metadata": {},
   "source": [
    "Here, we apply the ResLogit structure to our utility functions. `W1` and `W2` are the input and output weights of the residual layers."
   ]
  },
  {
   "cell_type": "code",
   "execution_count": 5,
   "metadata": {},
   "outputs": [],
   "source": [
    "from pycmtensor.models import ResLogitLayer\n",
    "\n",
    "# generate the output from the ResLogit Layer\n",
    "U = ResLogitLayer(U, W1, W2).output"
   ]
  },
  {
   "cell_type": "markdown",
   "metadata": {},
   "source": [
    "## Estimation\n",
    "The main estimation algorithm is as follows. We apply the Adam optimization algorithm and use a batch size of 128 samples. A cyclic learning rate is applied to the training process."
   ]
  },
  {
   "cell_type": "code",
   "execution_count": 6,
   "metadata": {},
   "outputs": [
    {
     "name": "stdout",
     "output_type": "stream",
     "text": [
      "dataset: model_average_sp (n=2790)\n",
      "batch size: 128\n",
      "iterations per epoch: 21\n"
     ]
    },
    {
     "data": {
      "application/vnd.jupyter.widget-view+json": {
       "model_id": "c1d4e137348f4992a40e70ec4cfc2705",
       "version_major": 2,
       "version_minor": 0
      },
      "text/plain": [
       "Loglikelihood:  -1954.341  Score: 0.498"
      ]
     },
     "metadata": {},
     "output_type": "display_data"
    },
    {
     "data": {
      "application/vnd.jupyter.widget-view+json": {
       "model_id": "8c9f39fc9483483188f7edd0ec7c2bc3",
       "version_major": 2,
       "version_minor": 0
      },
      "text/plain": [
       "Epoch    0/21000:   0%|          | 0.00/21.0k [00:00<?, ?it/s]"
      ]
     },
     "metadata": {},
     "output_type": "display_data"
    },
    {
     "name": "stdout",
     "output_type": "stream",
     "text": [
      "Optimization complete with accuracy of 79.677%. Max loglikelihood reached @ epoch 936.\n",
      "\n"
     ]
    }
   ],
   "source": [
    "import dill as pickle\n",
    "from pycmtensor.models import MNLogit\n",
    "from pycmtensor.optimizers import Adam\n",
    "\n",
    "model = MNLogit(u=U, av=None, database=db, name=\"sp_model\")\n",
    "model.add_params(locals())\n",
    "model.config[\"patience\"] = 20000\n",
    "model.config[\"max_epoch\"] = 1000\n",
    "model.config[\"batch_size\"] = 128\n",
    "model.config[\"base_lr\"] = 0.005\n",
    "model.config[\"max_lr\"] = 0.01\n",
    "model.config[\"learning_scheduler\"] = \"CyclicLR\"\n",
    "model.config[\"cyclic_lr_step_size\"] = 8\n",
    "\n",
    "# train function\n",
    "model = cmt.train(model, database=db, optimizer=Adam, notebook=True,)"
   ]
  },
  {
   "cell_type": "markdown",
   "metadata": {},
   "source": [
    "## Results\n",
    "The results of the model are printed by calling the `Results` class on the estimated model."
   ]
  },
  {
   "cell_type": "code",
   "execution_count": 7,
   "metadata": {},
   "outputs": [
    {
     "name": "stdout",
     "output_type": "stream",
     "text": [
      "Results for model: sp_model\n",
      "Build time: 00:00:24\n",
      "Estimation time: 00:00:50\n",
      "Estimation rate: 400.208 iter/s\n",
      "Seed value: 700\n",
      "Number of Beta parameters: 11\n",
      "Tensor size: 64\n",
      "Sample size: 2790\n",
      "Excluded data: 0\n",
      "Init loglikelihood: -1954.341\n",
      "Final loglikelihood: -1281.787\n",
      "Final loglikelihood reached at: epoch 936\n",
      "Likelihood ratio test: 1345.107\n",
      "Accuracy: 79.677%\n",
      "Rho square: 0.344\n",
      "Rho bar square: 0.306\n",
      "Akaike Information Criterion: 2713.57\n",
      "Bayesian Information Criterion: 3158.61\n",
      "Final gradient norm: 0.094\n",
      "\n",
      "Statistical Analysis:\n",
      "              Value   Std err     t-test   p-value Rob. Std err Rob. t-test Rob. p-value\n",
      "asc_alt1   0.223716  0.768463   0.291121  0.770959     0.735876    0.304013     0.761118\n",
      "b_bis     -0.246334  0.784045  -0.314183  0.753382     0.824733   -0.298683     0.765182\n",
      "b_carav1  -0.095026  0.046931  -2.024787  0.042889     0.018972   -5.008623     0.000001\n",
      "b_ch       -0.62469  0.050496 -12.371011       0.0     0.071133    -8.78194          0.0\n",
      "b_com     -0.118236  0.773463  -0.152866  0.878504     0.756644   -0.156264     0.875825\n",
      "b_cost    -9.670955  1.257457  -7.690885       0.0     0.439208  -22.019067          0.0\n",
      "b_hh_inc2  0.025294   0.04763   0.531061  0.595377     0.008551    2.958008     0.003096\n",
      "b_hw      -0.211768  0.017465 -12.124949       0.0     0.024138   -8.773348          0.0\n",
      "b_lei      0.118267  0.773719   0.152855  0.878513     0.793219    0.149097     0.881477\n",
      "b_shop      0.06984  0.776583   0.089932  0.928341      0.80285     0.08699      0.93068\n",
      "b_time    -4.271437  0.412232 -10.361722       0.0     0.362413  -11.786091          0.0\n",
      "\n",
      "Correlation matrix:\n",
      "             b_cost    b_time      b_hw      b_ch  b_hh_inc2  b_carav1     b_com    b_shop     b_bis     b_lei  asc_alt1\n",
      "b_cost     1.000000  0.812783  0.319166  0.439765  -0.045967 -0.019677  0.272640 -0.275356  0.286172 -0.276578 -0.281132\n",
      "b_time     0.812783  1.000000  0.461560  0.693501  -0.073940 -0.001010  0.017082 -0.015580  0.031389 -0.020821 -0.025839\n",
      "b_hw       0.319166  0.461560  1.000000  0.602169  -0.008489  0.034445 -0.052680  0.042184 -0.048149  0.049299  0.048083\n",
      "b_ch       0.439765  0.693501  0.602169  1.000000  -0.058006  0.093576 -0.255522  0.264334 -0.247955  0.257593  0.252382\n",
      "b_hh_inc2 -0.045967 -0.073940 -0.008489 -0.058006   1.000000  0.255050  0.152700 -0.146641  0.156701 -0.139541 -0.102446\n",
      "b_carav1  -0.019677 -0.001010  0.034445  0.093576   0.255050  1.000000 -0.033784  0.026370 -0.038274  0.036078  0.026052\n",
      "b_com      0.272640  0.017082 -0.052680 -0.255522   0.152700 -0.033784  1.000000 -0.994077  0.991398 -0.998079 -0.997403\n",
      "b_shop    -0.275356 -0.015580  0.042184  0.264334  -0.146641  0.026370 -0.994077  1.000000 -0.987585  0.994526  0.994188\n",
      "b_bis      0.286172  0.031389 -0.048149 -0.247955   0.156701 -0.038274  0.991398 -0.987585  1.000000 -0.991554 -0.990578\n",
      "b_lei     -0.276578 -0.020821  0.049299  0.257593  -0.139541  0.036078 -0.998079  0.994526 -0.991554  1.000000  0.998332\n",
      "asc_alt1  -0.281132 -0.025839  0.048083  0.252382  -0.102446  0.026052 -0.997403  0.994188 -0.990578  0.998332  1.000000\n",
      "\n"
     ]
    }
   ],
   "source": [
    "from pycmtensor.results import Results\n",
    "\n",
    "result = Results(model, db)\n",
    "result.print_beta_statistics()\n",
    "result.print_correlation_matrix()"
   ]
  },
  {
   "cell_type": "markdown",
   "metadata": {},
   "source": [
    "Optionally, we can plot the estimation performance vs. the number of iterations. Note that the x-axis is on a log-scale."
   ]
  },
  {
   "cell_type": "code",
   "execution_count": 8,
   "metadata": {},
   "outputs": [
    {
     "data": {
      "image/png": "[encoded data removed]",
      "text/plain": [
       "<Figure size 864x216 with 3 Axes>"
      ]
     },
     "metadata": {},
     "output_type": "display_data"
    }
   ],
   "source": [
    "import seaborn as sns\n",
    "import matplotlib.pyplot as plt\n",
    "\n",
    "sns.set_style(\"ticks\")\n",
    "sns.set_context(\"notebook\", font_scale=1.0, rc={\"lines.linewidth\": 1.2})\n",
    "log = model.tracker.get_data()\n",
    "fig, axs = plt.subplots(1, 3, figsize=(12, 3), squeeze=False)\n",
    "g1 = sns.lineplot(ax=axs[0, 0], data=log, x=log.index, y=\"full_ll\", color=\"red\")\n",
    "g2 = sns.lineplot(ax=axs[0, 1], data=log, x=log.index, y=\"lr\", color=\"red\")\n",
    "g3 = sns.lineplot(\n",
    "    ax=axs[0, 2], data=log, x=log.index, y=\"score\", color=\"red\"\n",
    ")  # y = score or full_ll or lr\n",
    "g1.set(xscale=\"log\", xlabel=\"iterations\", ylabel=\"log likelihood\")\n",
    "g2.set(xscale=\"log\", xlabel=\"iterations\", ylabel=\"learning rate\")\n",
    "g3.set(xscale=\"log\", xlabel=\"iterations\", ylabel=\"accuracy\")\n",
    "sns.despine()\n",
    "plt.tight_layout()\n",
    "plt.show()\n"
   ]
  },
  {
   "cell_type": "markdown",
   "metadata": {},
   "source": [
    "## Output choice probabilities\n",
    "To generate the probability outputs, we call the `Predict` class on the model `model` and the database `db`. Two methods are used: `probs()` to generate the probabilities and `choices()` to generate a pseudo-choice output by selecting the choice with the highest probability. The code below concatenates the probabilities and choices together."
   ]
  },
  {
   "cell_type": "code",
   "execution_count": 9,
   "metadata": {},
   "outputs": [
    {
     "data": {
      "text/html": [
       "<div>\n",
       "<style scoped>\n",
       "    .dataframe tbody tr th:only-of-type {\n",
       "        vertical-align: middle;\n",
       "    }\n",
       "\n",
       "    .dataframe tbody tr th {\n",
       "        vertical-align: top;\n",
       "    }\n",
       "\n",
       "    .dataframe thead th {\n",
       "        text-align: right;\n",
       "    }\n",
       "</style>\n",
       "<table border=\"1\" class=\"dataframe\">\n",
       "  <thead>\n",
       "    <tr style=\"text-align: right;\">\n",
       "      <th></th>\n",
       "      <th>0</th>\n",
       "      <th>1</th>\n",
       "      <th>CHOICE</th>\n",
       "    </tr>\n",
       "  </thead>\n",
       "  <tbody>\n",
       "    <tr>\n",
       "      <th>0</th>\n",
       "      <td>0.207365</td>\n",
       "      <td>0.792635</td>\n",
       "      <td>1</td>\n",
       "    </tr>\n",
       "    <tr>\n",
       "      <th>1</th>\n",
       "      <td>0.113172</td>\n",
       "      <td>0.886828</td>\n",
       "      <td>1</td>\n",
       "    </tr>\n",
       "    <tr>\n",
       "      <th>2</th>\n",
       "      <td>0.898947</td>\n",
       "      <td>0.101053</td>\n",
       "      <td>0</td>\n",
       "    </tr>\n",
       "    <tr>\n",
       "      <th>3</th>\n",
       "      <td>0.199755</td>\n",
       "      <td>0.800245</td>\n",
       "      <td>1</td>\n",
       "    </tr>\n",
       "    <tr>\n",
       "      <th>4</th>\n",
       "      <td>0.065866</td>\n",
       "      <td>0.934134</td>\n",
       "      <td>1</td>\n",
       "    </tr>\n",
       "    <tr>\n",
       "      <th>...</th>\n",
       "      <td>...</td>\n",
       "      <td>...</td>\n",
       "      <td>...</td>\n",
       "    </tr>\n",
       "    <tr>\n",
       "      <th>2785</th>\n",
       "      <td>0.663225</td>\n",
       "      <td>0.336775</td>\n",
       "      <td>0</td>\n",
       "    </tr>\n",
       "    <tr>\n",
       "      <th>2786</th>\n",
       "      <td>0.139354</td>\n",
       "      <td>0.860646</td>\n",
       "      <td>1</td>\n",
       "    </tr>\n",
       "    <tr>\n",
       "      <th>2787</th>\n",
       "      <td>0.583219</td>\n",
       "      <td>0.416781</td>\n",
       "      <td>0</td>\n",
       "    </tr>\n",
       "    <tr>\n",
       "      <th>2788</th>\n",
       "      <td>0.166582</td>\n",
       "      <td>0.833418</td>\n",
       "      <td>1</td>\n",
       "    </tr>\n",
       "    <tr>\n",
       "      <th>2789</th>\n",
       "      <td>0.140240</td>\n",
       "      <td>0.859760</td>\n",
       "      <td>1</td>\n",
       "    </tr>\n",
       "  </tbody>\n",
       "</table>\n",
       "<p>2790 rows × 3 columns</p>\n",
       "</div>"
      ],
      "text/plain": [
       "             0         1  CHOICE\n",
       "0     0.207365  0.792635       1\n",
       "1     0.113172  0.886828       1\n",
       "2     0.898947  0.101053       0\n",
       "3     0.199755  0.800245       1\n",
       "4     0.065866  0.934134       1\n",
       "...        ...       ...     ...\n",
       "2785  0.663225  0.336775       0\n",
       "2786  0.139354  0.860646       1\n",
       "2787  0.583219  0.416781       0\n",
       "2788  0.166582  0.833418       1\n",
       "2789  0.140240  0.859760       1\n",
       "\n",
       "[2790 rows x 3 columns]"
      ]
     },
     "execution_count": 9,
     "metadata": {},
     "output_type": "execute_result"
    }
   ],
   "source": [
    "from pycmtensor.results import Predict\n",
    "\n",
    "pd.concat((Predict(model, db).probs(), Predict(model, db).choices()), axis=1)"
   ]
  },
  {
   "cell_type": "markdown",
   "metadata": {},
   "source": [
    "## Elasticites\n",
    "We can calculate the elasticities from the model too."
   ]
  },
  {
   "cell_type": "code",
   "execution_count": 20,
   "metadata": {},
   "outputs": [
    {
     "data": {
      "image/png": "[encoded data removed]",
      "text/plain": [
       "<Figure size 576x432 with 4 Axes>"
      ]
     },
     "metadata": {},
     "output_type": "display_data"
    }
   ],
   "source": [
    "els_0_TT1 = model.elasticities(prob_choice=0, wrt=\"TT1\", database=db)\n",
    "els_0_TC1 = model.elasticities(prob_choice=0, wrt=\"TC1\", database=db)\n",
    "els_1_TT2 = model.elasticities(prob_choice=1, wrt=\"TT2\", database=db)\n",
    "els_1_TC1 = model.elasticities(prob_choice=1, wrt=\"TC2\", database=db)\n",
    "fig, axs = plt.subplots(2, 2, figsize=(8, 6), squeeze=False)\n",
    "e1 = sns.histplot(els_0_TT1, ax=axs[0, 0], stat=\"percent\")\n",
    "e2 = sns.histplot(els_0_TC1, ax=axs[0, 1], stat=\"percent\")\n",
    "e3 = sns.histplot(els_1_TT2, ax=axs[1, 0], stat=\"percent\")\n",
    "e4 = sns.histplot(els_1_TC1, ax=axs[1, 1], stat=\"percent\")\n",
    "e1.set(xlabel=\"Elasticity of TT1 (choice:0)\", ylabel=\"Share of the population (%)\")\n",
    "e2.set(xlabel=\"Elasticity of TC1 (choice:0)\", ylabel=\"Share of the population (%)\")\n",
    "e3.set(xlabel=\"Elasticity of TT2 (choice:1)\", ylabel=\"Share of the population (%)\")\n",
    "e4.set(xlabel=\"Elasticity of TC2 (choice:1)\", ylabel=\"Share of the population (%)\")\n",
    "sns.despine()\n",
    "plt.tight_layout()\n",
    "plt.show()"
   ]
  }
 ],
 "metadata": {
  "interpreter": {
   "hash": "778af00a7feac2b7c56e6c502df232e5aa8589a0a8675e326528fd15e3e3c67f"
  },
  "kernelspec": {
   "display_name": "Python [conda env:icmc]",
   "language": "python",
   "name": "python3"
  },
  "language_info": {
   "codemirror_mode": {
    "name": "ipython",
    "version": 3
   },
   "file_extension": ".py",
   "mimetype": "text/x-python",
   "name": "python",
   "nbconvert_exporter": "python",
   "pygments_lexer": "ipython3",
   "version": "3.9.7"
  }
 },
 "nbformat": 4,
 "nbformat_minor": 4
}
