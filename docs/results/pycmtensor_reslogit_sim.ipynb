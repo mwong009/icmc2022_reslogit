{
 "cells": [
  {
   "cell_type": "markdown",
   "metadata": {},
   "source": [
    "# sim dataset\n",
    "\n",
    "Model: ResLogit Model, 1-layer, 16 hidden units"
   ]
  },
  {
   "cell_type": "markdown",
   "metadata": {},
   "source": [
    "We import the dataset into the `cmt.Database()` class and indicate the choice column in the argument `choiceVar`."
   ]
  },
  {
   "cell_type": "code",
   "execution_count": 3,
   "metadata": {},
   "outputs": [],
   "source": [
    "import os\n",
    "import pandas as pd\n",
    "import pycmtensor as cmt\n",
    "cmt.__version__\n",
    "cmt.logger.set_level(cmt.logger.ERROR)"
   ]
  },
  {
   "cell_type": "code",
   "execution_count": 4,
   "metadata": {},
   "outputs": [],
   "source": [
    "import os\n",
    "import pandas as pd\n",
    "\n",
    "# read csv file and set columns to UPPERCASE\n",
    "nb_path = os.path.abspath(\"\")\n",
    "model_average_sim = pd.read_csv(\"../../data/model_average_sim.csv\")\n",
    "model_average_sim.columns = model_average_sim.columns.str.upper()\n",
    "\n",
    "# load database\n",
    "db = cmt.Database(\"model_average_sim\", model_average_sim, choiceVar=\"CHOICE\")\n",
    "globals().update(db.variables)"
   ]
  },
  {
   "cell_type": "markdown",
   "metadata": {},
   "source": [
    "## Data preparation\n",
    "We perform some data cleaning and setting the choices to start from index 0."
   ]
  },
  {
   "cell_type": "code",
   "execution_count": 5,
   "metadata": {},
   "outputs": [],
   "source": [
    "# additional steps to format database\n",
    "db.data[\"CHOICE\"] -= 1\n",
    "time_columns = [\"CAR_TIME\", \"AIR_TIME\", \"AIR_ACCESS\", \"RAIL_TIME\", \"RAIL_ACCESS\", \"HSR_TIME\", \"HSR_ACCESS\"]\n",
    "cost_columns = [\"CAR_COST\", \"AIR_COST\", \"RAIL_COST\", \"HSR_COST\"]\n",
    "income_columns = [\"INCOME\"]\n",
    "db.autoscale(variables=time_columns, default=60., verbose=True)\n",
    "db.autoscale(variables=cost_columns, default=100., verbose=True)\n",
    "db.autoscale(variables=income_columns, default=1000., verbose=True)"
   ]
  },
  {
   "cell_type": "markdown",
   "metadata": {},
   "source": [
    "## Model specification\n",
    "from the `pycmtensor` library, we import two classes to help us define the betas and (neural network) weights."
   ]
  },
  {
   "cell_type": "code",
   "execution_count": 6,
   "metadata": {},
   "outputs": [],
   "source": [
    "from pycmtensor.expressions import Beta, Weights\n",
    "from pycmtensor import aet\n",
    "\n",
    "# specify Beta parameters\n",
    "b_cost = Beta(\"b_cost\", 0.0, None, None, 0)\n",
    "b_time = Beta(\"b_time\", 0.0, None, None, 0)\n",
    "b_access = Beta(\"b_access\", 0.0, None, None, 0)\n",
    "b_income_rail = Beta(\"b_income_rail\", 0.0, None, None, 0)\n",
    "b_income_hsr = Beta(\"b_income_hsr\", 0.0, None, None, 0)\n",
    "b_income_car = Beta(\"b_income_car\", 0.0, None, None, 0)\n",
    "b_female_car = Beta(\"b_female_car\", 0.0, None, None, 0)\n",
    "b_female_rail = Beta(\"b_female_rail\", 0.0, None, None, 0)\n",
    "b_female_air = Beta(\"b_female_air\", 0.0, None, None, 0)\n",
    "\n",
    "asc_car = Beta(\"asc_car\", 0.0, None, None, 0)\n",
    "asc_air = Beta(\"asc_air\", 0.0, None, None, 0)\n",
    "asc_rail = Beta(\"asc_rail\", 0.0, None, None, 0)\n",
    "asc_hsr = Beta(\"asc_hsr\", 0.0, None, None, 1)\n",
    "\n",
    "# specify weight parameters\n",
    "W1 = Weights(\"ResNet_01a\", (4, 16), 0, True)\n",
    "W2 = Weights(\"ResNet_01b\", (16, 4), 0, True)"
   ]
  },
  {
   "cell_type": "markdown",
   "metadata": {},
   "source": [
    "We specify the utility functions for the four choices respectively as `U_car`, `U_air`, `U_rail`, and `U_hsr`."
   ]
  },
  {
   "cell_type": "code",
   "execution_count": 7,
   "metadata": {},
   "outputs": [],
   "source": [
    "U_car = (\n",
    "    b_cost * db[\"CAR_COST\"]\n",
    "    + b_time * db[\"CAR_TIME\"]\n",
    "    + b_income_car * db[\"INCOME\"]\n",
    "    + b_female_car * db[\"FEMALE\"]\n",
    "    + asc_car\n",
    ")\n",
    "U_air = (\n",
    "    b_cost * db[\"AIR_COST\"]\n",
    "    + b_time * db[\"AIR_TIME\"]\n",
    "    + b_access * db[\"AIR_ACCESS\"]\n",
    "    + b_female_air * db[\"FEMALE\"]\n",
    "    + asc_air\n",
    ")\n",
    "U_rail = (\n",
    "    b_cost * db[\"RAIL_COST\"]\n",
    "    + b_time * db[\"RAIL_TIME\"]\n",
    "    + b_access * db[\"RAIL_ACCESS\"]\n",
    "    + b_income_rail * db[\"INCOME\"]\n",
    "    + b_female_rail * db[\"FEMALE\"]\n",
    "    + asc_rail\n",
    ")\n",
    "U_hsr = (\n",
    "    b_cost * db[\"HSR_COST\"]\n",
    "    + b_time * db[\"HSR_TIME\"]\n",
    "    + b_access * db[\"HSR_ACCESS\"]\n",
    "    + b_income_hsr * db[\"INCOME\"]\n",
    "    + asc_hsr\n",
    ")\n",
    "\n",
    "# Associate utility functions with the list\n",
    "U = [U_car, U_air, U_rail, U_hsr]"
   ]
  },
  {
   "cell_type": "markdown",
   "metadata": {},
   "source": [
    "Here we apply the ResLogit structure to our utility functions. `W1` and `W2` are the input and output weights of the residual layer."
   ]
  },
  {
   "cell_type": "code",
   "execution_count": 8,
   "metadata": {},
   "outputs": [],
   "source": [
    "import dill as pickle\n",
    "from pycmtensor.models import MNLogit, ResLogitLayer\n",
    "from pycmtensor.optimizers import Adam\n",
    "from pycmtensor.results import Results\n",
    "\n",
    "# generate the output from the ResLogit Layer\n",
    "U = ResLogitLayer(U, W1, W2).output"
   ]
  },
  {
   "cell_type": "markdown",
   "metadata": {},
   "source": [
    "## Estimation\n",
    "The main estimation algorithm is as follows. We apply the Adam optimization algorithm and use a batch size of 128 samples. A cyclic learning rate is applied to the training process."
   ]
  },
  {
   "cell_type": "code",
   "execution_count": 9,
   "metadata": {},
   "outputs": [
    {
     "name": "stdout",
     "output_type": "stream",
     "text": [
      "dataset: model_average_sim (n=4000)\n",
      "batch size: 128\n",
      "iterations per epoch: 31\n"
     ]
    },
    {
     "data": {
      "application/vnd.jupyter.widget-view+json": {
       "model_id": "aebde8311df04d2684f3006946da36c0",
       "version_major": 2,
       "version_minor": 0
      },
      "text/plain": [
       "Loglikelihood:  -5424.945  Score: 0.611"
      ]
     },
     "metadata": {},
     "output_type": "display_data"
    },
    {
     "data": {
      "application/vnd.jupyter.widget-view+json": {
       "model_id": "0d52b975568f4ee293e02b4d1f928220",
       "version_major": 2,
       "version_minor": 0
      },
      "text/plain": [
       "Epoch    0/19995:   0%|          | 0.00/20.0k [00:00<?, ?it/s]"
      ]
     },
     "metadata": {},
     "output_type": "display_data"
    },
    {
     "name": "stdout",
     "output_type": "stream",
     "text": [
      "Optimization complete with accuracy of 62.650%. Max loglikelihood reached @ epoch 633.\n",
      "\n"
     ]
    }
   ],
   "source": [
    "model = MNLogit(U, av=None, database=db, name=\"sim_model\")\n",
    "model.add_params(locals())\n",
    "model.config[\"patience\"] = 20000\n",
    "model.config[\"max_epoch\"] = 500\n",
    "model.config[\"batch_size\"] = 128\n",
    "model.config[\"base_lr\"] = 0.005\n",
    "model.config[\"max_lr\"] = 0.01\n",
    "model.config[\"learning_scheduler\"] = \"CyclicLR\"\n",
    "model.config[\"cyclic_lr_step_size\"] = 8\n",
    "\n",
    "# train function\n",
    "model = cmt.train(model, database=db, optimizer=Adam, save_model=False, notebook=True)"
   ]
  },
  {
   "cell_type": "markdown",
   "metadata": {},
   "source": [
    "## Results\n",
    "The results of the model are printed by calling the `Results` class on the estimated model."
   ]
  },
  {
   "cell_type": "code",
   "execution_count": 10,
   "metadata": {},
   "outputs": [
    {
     "name": "stdout",
     "output_type": "stream",
     "text": [
      "Results for model: sim_model\n",
      "Build time: 00:00:27\n",
      "Estimation time: 00:00:58\n",
      "Estimation rate: 346.333 iter/s\n",
      "Seed value: 2678\n",
      "Number of Beta parameters: 12\n",
      "Tensor size: 128\n",
      "Sample size: 4000\n",
      "Excluded data: 0\n",
      "Init loglikelihood: -5424.945\n",
      "Final loglikelihood: -3683.697\n",
      "Final loglikelihood reached at: epoch 633\n",
      "Likelihood ratio test: 3482.497\n",
      "Accuracy: 62.650%\n",
      "Rho square: 0.321\n",
      "Rho bar square: 0.295\n",
      "Akaike Information Criterion: 7647.39\n",
      "Bayesian Information Criterion: 8528.56\n",
      "Final gradient norm: 0.090\n",
      "\n",
      "Statistical Analysis:\n",
      "                  Value   Std err     t-test   p-value Rob. Std err Rob. t-test Rob. p-value\n",
      "asc_air        -0.77229  0.151703  -5.090785       0.0     0.035918  -21.501385          0.0\n",
      "asc_car        0.742271  0.171664   4.323964  0.000015     0.049397   15.026647          0.0\n",
      "asc_rail       -0.53723  0.245649  -2.186979  0.028744     0.103576   -5.186814          0.0\n",
      "b_access      -0.397408    0.0854  -4.653477  0.000003     0.019886  -19.983971          0.0\n",
      "b_cost        -2.621745  0.100754  -26.02118       0.0      0.06415  -40.869039          0.0\n",
      "b_female_air   0.517749  0.085724   6.039684       0.0     0.013934   37.157312          0.0\n",
      "b_female_car    0.08802  0.080568   1.092496  0.274615     0.031505    2.793844     0.005209\n",
      "b_female_rail  0.374908  0.134059   2.796587  0.005165      0.03095   12.113244          0.0\n",
      "b_income_car  -0.326326  0.084777   -3.84922  0.000118     0.025066  -13.018921          0.0\n",
      "b_income_hsr  -0.157312  0.076497  -2.056462  0.039738     0.004834  -32.540365          0.0\n",
      "b_income_rail -0.637749  0.126336  -5.048038       0.0     0.005778 -110.379065          0.0\n",
      "b_time        -0.311317  0.021023 -14.808078       0.0     0.012782  -24.355175          0.0\n",
      "\n",
      "Correlation matrix:\n",
      "                 b_cost    b_time  b_access  b_income_rail  b_income_hsr  b_income_car  b_female_car  b_female_rail  b_female_air   asc_car   asc_air  asc_rail\n",
      "b_cost         1.000000  0.107082  0.038484       0.022845     -0.027159      0.009492     -0.056678      -0.033010     -0.095560  0.210506  0.010881  0.218303\n",
      "b_time         0.107082  1.000000 -0.004089       0.009990     -0.034745     -0.018226     -0.028177       0.044973      0.010033 -0.479028  0.243012 -0.270738\n",
      "b_access       0.038484 -0.004089  1.000000      -0.053048     -0.077878     -0.052310     -0.008682      -0.016933      0.007167  0.281969 -0.260434  0.098776\n",
      "b_income_rail  0.022845  0.009990 -0.053048       1.000000      0.384298      0.560945     -0.002735       0.042297      0.001610 -0.196281  0.341643 -0.629090\n",
      "b_income_hsr  -0.027159 -0.034745 -0.077878       0.384298      1.000000      0.611878     -0.029618       0.004675      0.011563  0.248397  0.851343  0.256117\n",
      "b_income_car   0.009492 -0.018226 -0.052310       0.560945      0.611878      1.000000     -0.015867       0.012446      0.005692 -0.378421  0.520944 -0.133136\n",
      "b_female_car  -0.056678 -0.028177 -0.008682      -0.002735     -0.029618     -0.015867      1.000000       0.503136      0.357399 -0.235649 -0.122020 -0.152297\n",
      "b_female_rail -0.033010  0.044973 -0.016933       0.042297      0.004675      0.012446      0.503136       1.000000      0.324769 -0.153947 -0.075588 -0.363259\n",
      "b_female_air  -0.095560  0.010033  0.007167       0.001610      0.011563      0.005692      0.357399       0.324769      1.000000 -0.100750 -0.279311 -0.114920\n",
      "asc_car        0.210506 -0.479028  0.281969      -0.196281      0.248397     -0.378421     -0.235649      -0.153947     -0.100750  1.000000  0.072702  0.602718\n",
      "asc_air        0.010881  0.243012 -0.260434       0.341643      0.851343      0.520944     -0.122020      -0.075588     -0.279311  0.072702  1.000000  0.176071\n",
      "asc_rail       0.218303 -0.270738  0.098776      -0.629090      0.256117     -0.133136     -0.152297      -0.363259     -0.114920  0.602718  0.176071  1.000000\n",
      "\n"
     ]
    }
   ],
   "source": [
    "result = Results(model, db)\n",
    "result.print_beta_statistics()\n",
    "result.print_correlation_matrix()"
   ]
  },
  {
   "cell_type": "markdown",
   "metadata": {},
   "source": [
    "Optionally, we can plot the estimation performance vs. the number of iterations. Note that the x-axis is on a log-scale."
   ]
  },
  {
   "cell_type": "code",
   "execution_count": 11,
   "metadata": {},
   "outputs": [
    {
     "data": {
      "image/png": "[encoded data removed]",
      "text/plain": [
       "<Figure size 864x216 with 3 Axes>"
      ]
     },
     "metadata": {},
     "output_type": "display_data"
    }
   ],
   "source": [
    "import seaborn as sns\n",
    "import matplotlib.pyplot as plt\n",
    "sns.set_style(\"ticks\")\n",
    "sns.set_context(\"notebook\", font_scale=1., rc={\"lines.linewidth\": 1.2})\n",
    "log = model.tracker.get_data()\n",
    "fig, axs = plt.subplots(1, 3, figsize=(12, 3), squeeze=False)\n",
    "g1 = sns.lineplot(ax=axs[0, 0], data=log, x=log.index, y=\"full_ll\", color='red') \n",
    "g2 = sns.lineplot(ax=axs[0, 1], data=log, x=log.index, y=\"lr\", color='red')\n",
    "g3 = sns.lineplot(ax=axs[0, 2],data=log, x=log.index, y=\"score\", color='red') # y = score or full_ll or lr\n",
    "g1.set(xscale=\"log\", xlabel=\"iterations\", ylabel=\"log likelihood\")\n",
    "g2.set(xscale=\"log\", xlabel=\"iterations\", ylabel=\"learning rate\")\n",
    "g3.set(xscale=\"log\", xlabel=\"iterations\", ylabel=\"accuracy\")\n",
    "sns.despine()\n",
    "plt.tight_layout()\n",
    "plt.show()"
   ]
  },
  {
   "cell_type": "markdown",
   "metadata": {},
   "source": [
    "## Output choice probabilities\n",
    "To generate the probability outputs, we call the `Predict` class on the model `model` and the database `db`. Two methods are used: `probs()` to generate the probabilities and `choices()` to generate a pseudo-choice output by selecting the choice with the highest probability. The code below concatenates the probabilities and choices together."
   ]
  },
  {
   "cell_type": "code",
   "execution_count": 12,
   "metadata": {},
   "outputs": [
    {
     "data": {
      "text/html": [
       "<div>\n",
       "<style scoped>\n",
       "    .dataframe tbody tr th:only-of-type {\n",
       "        vertical-align: middle;\n",
       "    }\n",
       "\n",
       "    .dataframe tbody tr th {\n",
       "        vertical-align: top;\n",
       "    }\n",
       "\n",
       "    .dataframe thead th {\n",
       "        text-align: right;\n",
       "    }\n",
       "</style>\n",
       "<table border=\"1\" class=\"dataframe\">\n",
       "  <thead>\n",
       "    <tr style=\"text-align: right;\">\n",
       "      <th></th>\n",
       "      <th>0</th>\n",
       "      <th>1</th>\n",
       "      <th>2</th>\n",
       "      <th>3</th>\n",
       "      <th>CHOICE</th>\n",
       "    </tr>\n",
       "  </thead>\n",
       "  <tbody>\n",
       "    <tr>\n",
       "      <th>0</th>\n",
       "      <td>0.536218</td>\n",
       "      <td>0.059648</td>\n",
       "      <td>0.068974</td>\n",
       "      <td>0.335159</td>\n",
       "      <td>0</td>\n",
       "    </tr>\n",
       "    <tr>\n",
       "      <th>1</th>\n",
       "      <td>0.803938</td>\n",
       "      <td>0.049487</td>\n",
       "      <td>0.019461</td>\n",
       "      <td>0.127115</td>\n",
       "      <td>0</td>\n",
       "    </tr>\n",
       "    <tr>\n",
       "      <th>2</th>\n",
       "      <td>0.437634</td>\n",
       "      <td>0.201475</td>\n",
       "      <td>0.071246</td>\n",
       "      <td>0.289645</td>\n",
       "      <td>0</td>\n",
       "    </tr>\n",
       "    <tr>\n",
       "      <th>3</th>\n",
       "      <td>0.786571</td>\n",
       "      <td>0.083029</td>\n",
       "      <td>0.025886</td>\n",
       "      <td>0.104514</td>\n",
       "      <td>0</td>\n",
       "    </tr>\n",
       "    <tr>\n",
       "      <th>4</th>\n",
       "      <td>0.427712</td>\n",
       "      <td>0.518254</td>\n",
       "      <td>0.028875</td>\n",
       "      <td>0.025159</td>\n",
       "      <td>1</td>\n",
       "    </tr>\n",
       "    <tr>\n",
       "      <th>...</th>\n",
       "      <td>...</td>\n",
       "      <td>...</td>\n",
       "      <td>...</td>\n",
       "      <td>...</td>\n",
       "      <td>...</td>\n",
       "    </tr>\n",
       "    <tr>\n",
       "      <th>3995</th>\n",
       "      <td>0.759395</td>\n",
       "      <td>0.065913</td>\n",
       "      <td>0.064537</td>\n",
       "      <td>0.110155</td>\n",
       "      <td>0</td>\n",
       "    </tr>\n",
       "    <tr>\n",
       "      <th>3996</th>\n",
       "      <td>0.332967</td>\n",
       "      <td>0.045234</td>\n",
       "      <td>0.030253</td>\n",
       "      <td>0.591546</td>\n",
       "      <td>3</td>\n",
       "    </tr>\n",
       "    <tr>\n",
       "      <th>3997</th>\n",
       "      <td>0.835648</td>\n",
       "      <td>0.045212</td>\n",
       "      <td>0.037389</td>\n",
       "      <td>0.081751</td>\n",
       "      <td>0</td>\n",
       "    </tr>\n",
       "    <tr>\n",
       "      <th>3998</th>\n",
       "      <td>0.658898</td>\n",
       "      <td>0.066830</td>\n",
       "      <td>0.028851</td>\n",
       "      <td>0.245422</td>\n",
       "      <td>0</td>\n",
       "    </tr>\n",
       "    <tr>\n",
       "      <th>3999</th>\n",
       "      <td>0.756897</td>\n",
       "      <td>0.114895</td>\n",
       "      <td>0.067126</td>\n",
       "      <td>0.061081</td>\n",
       "      <td>0</td>\n",
       "    </tr>\n",
       "  </tbody>\n",
       "</table>\n",
       "<p>4000 rows × 5 columns</p>\n",
       "</div>"
      ],
      "text/plain": [
       "             0         1         2         3  CHOICE\n",
       "0     0.536218  0.059648  0.068974  0.335159       0\n",
       "1     0.803938  0.049487  0.019461  0.127115       0\n",
       "2     0.437634  0.201475  0.071246  0.289645       0\n",
       "3     0.786571  0.083029  0.025886  0.104514       0\n",
       "4     0.427712  0.518254  0.028875  0.025159       1\n",
       "...        ...       ...       ...       ...     ...\n",
       "3995  0.759395  0.065913  0.064537  0.110155       0\n",
       "3996  0.332967  0.045234  0.030253  0.591546       3\n",
       "3997  0.835648  0.045212  0.037389  0.081751       0\n",
       "3998  0.658898  0.066830  0.028851  0.245422       0\n",
       "3999  0.756897  0.114895  0.067126  0.061081       0\n",
       "\n",
       "[4000 rows x 5 columns]"
      ]
     },
     "execution_count": 12,
     "metadata": {},
     "output_type": "execute_result"
    }
   ],
   "source": [
    "from pycmtensor.results import Predict\n",
    "\n",
    "pd.concat((Predict(model, db).probs(), Predict(model, db).choices()), axis=1)"
   ]
  },
  {
   "cell_type": "markdown",
   "metadata": {},
   "source": [
    "## Elasticites\n",
    "We can calculate the elasticities from the model too."
   ]
  },
  {
   "cell_type": "code",
   "execution_count": 14,
   "metadata": {},
   "outputs": [
    {
     "data": {
      "image/png": "[encoded data removed]",
      "text/plain": [
       "<Figure size 576x216 with 2 Axes>"
      ]
     },
     "metadata": {},
     "output_type": "display_data"
    }
   ],
   "source": [
    "els_1 = model.elasticities(prob_choice=2, wrt=\"RAIL_COST\", database=db)\n",
    "els_2 = model.elasticities(prob_choice=2, wrt=\"RAIL_TIME\", database=db)\n",
    "fig, axs = plt.subplots(1, 2, figsize=(8, 3), squeeze=False)\n",
    "e1 = sns.histplot(els_1, ax=axs[0, 0], stat=\"percent\")\n",
    "e2 = sns.histplot(els_2, ax=axs[0, 1], stat=\"percent\")\n",
    "e1.set(xlabel=\"Elasticity of RAIL_COST (choice:2)\", ylabel=\"Share of the population (%)\")\n",
    "e2.set(xlabel=\"Elasticity of RAIL_TIME (choice:2)\", ylabel=\"Share of the population (%)\")\n",
    "sns.despine()\n",
    "plt.tight_layout()\n",
    "plt.show()"
   ]
  }
 ],
 "metadata": {
  "interpreter": {
   "hash": "778af00a7feac2b7c56e6c502df232e5aa8589a0a8675e326528fd15e3e3c67f"
  },
  "kernelspec": {
   "display_name": "Python [conda env:icmc]",
   "language": "python",
   "name": "python3"
  },
  "language_info": {
   "codemirror_mode": {
    "name": "ipython",
    "version": 3
   },
   "file_extension": ".py",
   "mimetype": "text/x-python",
   "name": "python",
   "nbconvert_exporter": "python",
   "pygments_lexer": "ipython3",
   "version": "3.9.7"
  }
 },
 "nbformat": 4,
 "nbformat_minor": 4
}
