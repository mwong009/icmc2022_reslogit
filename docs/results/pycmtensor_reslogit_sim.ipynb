{
 "cells": [
  {
   "cell_type": "markdown",
   "metadata": {},
   "source": [
    "# sim dataset\n",
    "\n",
    "Model: ResLogit Model, 1-layer, 16 hidden units"
   ]
  },
  {
   "cell_type": "markdown",
   "metadata": {},
   "source": [
    "We import the dataset into the `cmt.Database()` class and indicate the choice column in the argument `choiceVar`."
   ]
  },
  {
   "cell_type": "code",
   "execution_count": 1,
   "metadata": {},
   "outputs": [
    {
     "data": {
      "text/plain": [
       "'0.7.0'"
      ]
     },
     "execution_count": 1,
     "metadata": {},
     "output_type": "execute_result"
    }
   ],
   "source": [
    "import os\n",
    "import pandas as pd\n",
    "import pycmtensor as cmt\n",
    "cmt.__version__"
   ]
  },
  {
   "cell_type": "code",
   "execution_count": 2,
   "metadata": {},
   "outputs": [],
   "source": [
    "import os\n",
    "import pandas as pd\n",
    "\n",
    "# read csv file and set columns to UPPERCASE\n",
    "nb_path = os.path.abspath(\"\")\n",
    "model_average_sim = pd.read_csv(\"../../data/model_average_sim.csv\")\n",
    "model_average_sim.columns = model_average_sim.columns.str.upper()\n",
    "\n",
    "# load database\n",
    "db = cmt.Database(\"model_average_sim\", model_average_sim, choiceVar=\"CHOICE\")\n",
    "globals().update(db.variables)"
   ]
  },
  {
   "cell_type": "markdown",
   "metadata": {},
   "source": [
    "## Data preparation\n",
    "We perform some data cleaning and setting the choices to start from index 0."
   ]
  },
  {
   "cell_type": "code",
   "execution_count": 3,
   "metadata": {},
   "outputs": [],
   "source": [
    "# additional steps to format database\n",
    "db.data[\"CHOICE\"] -= 1\n",
    "time_columns = [\"CAR_TIME\", \"AIR_TIME\", \"AIR_ACCESS\", \"RAIL_TIME\", \"RAIL_ACCESS\", \"HSR_TIME\", \"HSR_ACCESS\"]\n",
    "cost_columns = [\"CAR_COST\", \"AIR_COST\", \"RAIL_COST\", \"HSR_COST\"]\n",
    "income_columns = [\"INCOME\"]\n",
    "db.autoscale(variables=time_columns, default=60., verbose=True)\n",
    "db.autoscale(variables=cost_columns, default=100., verbose=True)\n",
    "db.autoscale(variables=income_columns, default=1000., verbose=True)"
   ]
  },
  {
   "cell_type": "markdown",
   "metadata": {},
   "source": [
    "## Model specification\n",
    "from the `pycmtensor` library, we import two classes to help us define the betas and (neural network) weights."
   ]
  },
  {
   "cell_type": "code",
   "execution_count": 4,
   "metadata": {},
   "outputs": [],
   "source": [
    "from pycmtensor.expressions import Beta, Weights\n",
    "from pycmtensor import aet\n",
    "\n",
    "# specify Beta parameters\n",
    "b_cost = Beta(\"b_cost\", 0.0, None, None, 0)\n",
    "b_time = Beta(\"b_time\", 0.0, None, None, 0)\n",
    "b_access = Beta(\"b_access\", 0.0, None, None, 0)\n",
    "b_income_rail = Beta(\"b_income_rail\", 0.0, None, None, 0)\n",
    "b_income_hsr = Beta(\"b_income_hsr\", 0.0, None, None, 0)\n",
    "b_income_car = Beta(\"b_income_car\", 0.0, None, None, 0)\n",
    "b_female_car = Beta(\"b_female_car\", 0.0, None, None, 0)\n",
    "b_female_rail = Beta(\"b_female_rail\", 0.0, None, None, 0)\n",
    "b_female_air = Beta(\"b_female_air\", 0.0, None, None, 0)\n",
    "\n",
    "asc_car = Beta(\"asc_car\", 0.0, None, None, 0)\n",
    "asc_air = Beta(\"asc_air\", 0.0, None, None, 0)\n",
    "asc_rail = Beta(\"asc_rail\", 0.0, None, None, 0)\n",
    "asc_hsr = Beta(\"asc_hsr\", 0.0, None, None, 1)\n",
    "\n",
    "# specify weight parameters\n",
    "W1 = Weights(\"ResNet_01a\", (4, 16), 0, True)\n",
    "W2 = Weights(\"ResNet_01b\", (16, 4), 0, True)"
   ]
  },
  {
   "cell_type": "markdown",
   "metadata": {},
   "source": [
    "We specify the utility functions for the four choices respectively as `U_car`, `U_air`, `U_rail`, and `U_hsr`."
   ]
  },
  {
   "cell_type": "code",
   "execution_count": 5,
   "metadata": {},
   "outputs": [],
   "source": [
    "U_car = (\n",
    "    b_cost * db[\"CAR_COST\"]\n",
    "    + b_time * db[\"CAR_TIME\"]\n",
    "    + b_income_car * db[\"INCOME\"]\n",
    "    + b_female_car * db[\"FEMALE\"]\n",
    "    + asc_car\n",
    ")\n",
    "U_air = (\n",
    "    b_cost * db[\"AIR_COST\"]\n",
    "    + b_time * db[\"AIR_TIME\"]\n",
    "    + b_access * db[\"AIR_ACCESS\"]\n",
    "    + b_female_air * db[\"FEMALE\"]\n",
    "    + asc_air\n",
    ")\n",
    "U_rail = (\n",
    "    b_cost * db[\"RAIL_COST\"]\n",
    "    + b_time * db[\"RAIL_TIME\"]\n",
    "    + b_access * db[\"RAIL_ACCESS\"]\n",
    "    + b_income_rail * db[\"INCOME\"]\n",
    "    + b_female_rail * db[\"FEMALE\"]\n",
    "    + asc_rail\n",
    ")\n",
    "U_hsr = (\n",
    "    b_cost * db[\"HSR_COST\"]\n",
    "    + b_time * db[\"HSR_TIME\"]\n",
    "    + b_access * db[\"HSR_ACCESS\"]\n",
    "    + b_income_hsr * db[\"INCOME\"]\n",
    "    + asc_hsr\n",
    ")\n",
    "\n",
    "# Associate utility functions with the list\n",
    "U = [U_car, U_air, U_rail, U_hsr]"
   ]
  },
  {
   "cell_type": "markdown",
   "metadata": {},
   "source": [
    "Here we apply the ResLogit structure to our utility functions. `W1` and `W2` are the input and output weights of the residual layer."
   ]
  },
  {
   "cell_type": "code",
   "execution_count": 6,
   "metadata": {},
   "outputs": [],
   "source": [
    "import dill as pickle\n",
    "from pycmtensor.models import MNLogit, ResLogitLayer\n",
    "from pycmtensor.optimizers import Adam\n",
    "from pycmtensor.results import Results\n",
    "\n",
    "# generate the output from the ResLogit Layer\n",
    "U = ResLogitLayer(U, W1, W2).output"
   ]
  },
  {
   "cell_type": "markdown",
   "metadata": {},
   "source": [
    "## Estimation\n",
    "The main estimation algorithm is as follows. We apply the Adam optimization algorithm and use a batch size of 128 samples. A cyclic learning rate is applied to the training process."
   ]
  },
  {
   "cell_type": "code",
   "execution_count": 7,
   "metadata": {},
   "outputs": [
    {
     "name": "stderr",
     "output_type": "stream",
     "text": [
      "[2022-03-22 14:33:57] WARNING: max_epoch=500 is smaller than expected value =645, setting default max_epoch=645.\n",
      "  11 log likelihood -3779.09 | score 0.62 | learning rate 8.13e-03\n",
      "  24 log likelihood -3718.15 | score 0.62 | learning rate 7.50e-03\n",
      "  35 log likelihood -3709.65 | score 0.62 | learning rate 5.47e-03\n",
      "  50 log likelihood -3707.59 | score 0.62 | learning rate 5.16e-03\n",
      "  70 log likelihood -3705.86 | score 0.62 | learning rate 5.23e-03\n",
      "  94 log likelihood -3705.52 | score 0.62 | learning rate 5.04e-03\n",
      " 106 log likelihood -3704.14 | score 0.62 | learning rate 5.06e-03\n",
      " 133 log likelihood -3703.13 | score 0.62 | learning rate 5.01e-03\n",
      " 152 log likelihood -3703.12 | score 0.62 | learning rate 5.01e-03\n",
      " 169 log likelihood -3702.35 | score 0.62 | learning rate 5.00e-03\n",
      " 190 log likelihood -3701.47 | score 0.62 | learning rate 5.00e-03\n",
      " 205 log likelihood -3700.30 | score 0.62 | learning rate 5.00e-03\n",
      " 220 log likelihood -3699.26 | score 0.62 | learning rate 5.00e-03\n",
      " 235 log likelihood -3697.80 | score 0.63 | learning rate 5.00e-03\n",
      " 263 log likelihood -3697.67 | score 0.62 | learning rate 5.00e-03\n",
      " 280 log likelihood -3697.25 | score 0.62 | learning rate 5.00e-03\n",
      " 305 log likelihood -3696.13 | score 0.62 | learning rate 5.00e-03\n",
      " 322 log likelihood -3695.73 | score 0.62 | learning rate 5.00e-03\n",
      " 338 log likelihood -3695.29 | score 0.62 | learning rate 5.00e-03\n",
      " 353 log likelihood -3694.57 | score 0.63 | learning rate 5.00e-03\n",
      " 377 log likelihood -3693.91 | score 0.63 | learning rate 5.00e-03\n",
      " 389 log likelihood -3693.64 | score 0.63 | learning rate 5.00e-03\n",
      " 406 log likelihood -3693.61 | score 0.63 | learning rate 5.00e-03\n",
      " 442 log likelihood -3692.74 | score 0.62 | learning rate 5.00e-03\n",
      " 457 log likelihood -3692.11 | score 0.62 | learning rate 5.00e-03\n",
      " 479 log likelihood -3691.48 | score 0.63 | learning rate 5.00e-03\n",
      " 507 log likelihood -3691.17 | score 0.62 | learning rate 5.00e-03\n",
      " 563 log likelihood -3690.06 | score 0.62 | learning rate 5.00e-03\n",
      " 577 log likelihood -3688.91 | score 0.63 | learning rate 5.00e-03\n",
      " 589 log likelihood -3688.45 | score 0.62 | learning rate 5.00e-03\n"
     ]
    },
    {
     "name": "stdout",
     "output_type": "stream",
     "text": [
      "Optimization complete with accuracy of 62.300%. Max loglikelihood reached @ epoch 594.\n",
      "\n"
     ]
    }
   ],
   "source": [
    "model = MNLogit(U, av=None, database=db, name=\"sim_model\")\n",
    "model.add_params(locals())\n",
    "model.config[\"debug\"] = True\n",
    "model.config[\"patience\"] = 20000\n",
    "model.config[\"max_epoch\"] = 500\n",
    "model.config[\"batch_size\"] = 128\n",
    "model.config[\"base_lr\"] = 0.005\n",
    "model.config[\"max_lr\"] = 0.01\n",
    "model.config[\"learning_scheduler\"] = \"CyclicLR\"\n",
    "model.config[\"cyclic_lr_step_size\"] = 8\n",
    "\n",
    "# train function\n",
    "model = cmt.train(model, database=db, optimizer=Adam, notebook=True)"
   ]
  },
  {
   "cell_type": "markdown",
   "metadata": {},
   "source": [
    "## Results\n",
    "The results of the model are printed by calling the `Results` class on the estimated model."
   ]
  },
  {
   "cell_type": "code",
   "execution_count": 8,
   "metadata": {},
   "outputs": [
    {
     "name": "stdout",
     "output_type": "stream",
     "text": [
      "Results for model: sim_model\n",
      "Build time: 00:00:18\n",
      "Estimation time: 00:00:19\n",
      "Estimation rate: 1040.492 iter/s\n",
      "Seed value: 1611\n",
      "Number of Beta parameters: 12\n",
      "Tensor size: 128\n",
      "Sample size: 4000\n",
      "Excluded data: 0\n",
      "Init loglikelihood: -5507.089\n",
      "Final loglikelihood: -3688.337\n",
      "Final loglikelihood reached at: epoch 594\n",
      "Likelihood ratio test: 3637.504\n",
      "Accuracy: 62.300%\n",
      "Rho square: 0.330\n",
      "Rho bar square: 0.305\n",
      "Akaike Information Criterion: 7656.67\n",
      "Bayesian Information Criterion: 8537.84\n",
      "Final gradient norm: 0.065\n",
      "\n",
      "Statistical Analysis:\n",
      "                  Value   Std err     t-test   p-value Rob. Std err Rob. t-test Rob. p-value\n",
      "asc_air       -0.782345  0.154686  -5.057621       0.0      0.09742   -8.030626          0.0\n",
      "asc_car        0.663012  0.181727   3.648401  0.000264     0.003733   177.59895          0.0\n",
      "asc_rail      -0.551805  0.259656  -2.125141  0.033575     0.072251   -7.637384          0.0\n",
      "b_access       -0.36849  0.087024  -4.234331  0.000023     0.001196 -308.008285          0.0\n",
      "b_cost        -2.643023  0.105917 -24.953624       0.0     0.073952  -35.739506          0.0\n",
      "b_female_air   0.514198    0.0899   5.719656       0.0     0.010412   49.385657          0.0\n",
      "b_female_car   0.139264  0.085225   1.634075  0.102243     0.008003   17.401903          0.0\n",
      "b_female_rail  0.369575  0.141983   2.602959  0.009242      0.04998    7.394443          0.0\n",
      "b_income_car  -0.315308  0.088768  -3.552035  0.000382     0.039747   -7.932867          0.0\n",
      "b_income_hsr   -0.12814  0.075251  -1.702832    0.0886     0.011169  -11.472591          0.0\n",
      "b_income_rail  -0.64018  0.131759  -4.858716  0.000001     0.005767  -111.01029          0.0\n",
      "b_time        -0.291919  0.021526 -13.561382       0.0     0.016981   -17.19127          0.0\n",
      "\n",
      "Correlation matrix:\n",
      "                 b_cost    b_time  b_access  b_income_rail  b_income_hsr  b_income_car  b_female_car  b_female_rail  b_female_air   asc_car   asc_air  asc_rail\n",
      "b_cost         1.000000  0.079953  0.039982       0.016957     -0.001895      0.024187     -0.064090      -0.015617     -0.086008  0.225992  0.011909  0.217924\n",
      "b_time         0.079953  1.000000 -0.012109      -0.039542     -0.061560     -0.050475     -0.050648       0.019309     -0.002169 -0.455007  0.230575 -0.250075\n",
      "b_access       0.039982 -0.012109  1.000000      -0.066748     -0.083215     -0.063963     -0.013559      -0.002163      0.001254  0.293282 -0.263539  0.105022\n",
      "b_income_rail  0.016957 -0.039542 -0.066748       1.000000      0.353523      0.556820      0.023763       0.071940     -0.028767 -0.215916  0.312577 -0.651417\n",
      "b_income_hsr  -0.001895 -0.061560 -0.083215       0.353523      1.000000      0.599527     -0.043013       0.025014     -0.034460  0.261228  0.840235  0.262040\n",
      "b_income_car   0.024187 -0.050475 -0.063963       0.556820      0.599527      1.000000     -0.017238       0.047319     -0.043617 -0.386548  0.508496 -0.158411\n",
      "b_female_car  -0.064090 -0.050648 -0.013559       0.023763     -0.043013     -0.017238      1.000000       0.504954      0.345195 -0.240278 -0.131831 -0.176790\n",
      "b_female_rail -0.015617  0.019309 -0.002163       0.071940      0.025014      0.047319      0.504954       1.000000      0.321550 -0.147160 -0.061746 -0.356703\n",
      "b_female_air  -0.086008 -0.002169  0.001254      -0.028767     -0.034460     -0.043617      0.345195       0.321550      1.000000 -0.079531 -0.336120 -0.098948\n",
      "asc_car        0.225992 -0.455007  0.293282      -0.215916      0.261228     -0.386548     -0.240278      -0.147160     -0.079531  1.000000  0.070761  0.618317\n",
      "asc_air        0.011909  0.230575 -0.263539       0.312577      0.840235      0.508496     -0.131831      -0.061746     -0.336120  0.070761  1.000000  0.167688\n",
      "asc_rail       0.217924 -0.250075  0.105022      -0.651417      0.262040     -0.158411     -0.176790      -0.356703     -0.098948  0.618317  0.167688  1.000000\n",
      "\n"
     ]
    }
   ],
   "source": [
    "result = Results(model, db)\n",
    "result.print_beta_statistics()\n",
    "result.print_correlation_matrix()"
   ]
  },
  {
   "cell_type": "markdown",
   "metadata": {},
   "source": [
    "Optionally, we can plot the estimation performance vs. the number of iterations. Note that the x-axis is on a log-scale."
   ]
  },
  {
   "cell_type": "code",
   "execution_count": 9,
   "metadata": {},
   "outputs": [
    {
     "data": {
      "image/png": "[encoded data removed]",
      "text/plain": [
       "<Figure size 864x216 with 3 Axes>"
      ]
     },
     "metadata": {},
     "output_type": "display_data"
    }
   ],
   "source": [
    "import seaborn as sns\n",
    "import matplotlib.pyplot as plt\n",
    "sns.set_style(\"ticks\")\n",
    "sns.set_context(\"notebook\", font_scale=1., rc={\"lines.linewidth\": 1.2})\n",
    "log = model.tracker.get_data()\n",
    "fig, axs = plt.subplots(1, 3, figsize=(12, 3), squeeze=False)\n",
    "g1 = sns.lineplot(ax=axs[0, 0], data=log, x=log.index, y=\"full_ll\", color='red') \n",
    "g2 = sns.lineplot(ax=axs[0, 1], data=log, x=log.index, y=\"lr\", color='red')\n",
    "g3 = sns.lineplot(ax=axs[0, 2],data=log, x=log.index, y=\"score\", color='red') # y = score or full_ll or lr\n",
    "g1.set(xscale=\"log\", xlabel=\"iterations\", ylabel=\"log likelihood\")\n",
    "g2.set(xscale=\"log\", xlabel=\"iterations\", ylabel=\"learning rate\")\n",
    "g3.set(xscale=\"log\", xlabel=\"iterations\", ylabel=\"accuracy\")\n",
    "sns.despine()\n",
    "plt.tight_layout()\n",
    "plt.show()"
   ]
  },
  {
   "cell_type": "markdown",
   "metadata": {},
   "source": [
    "## Output choice probabilities\n",
    "To generate the probability outputs, we call the `Predict` class on the model `model` and the database `db`. Two methods are used: `probs()` to generate the probabilities and `choices()` to generate a pseudo-choice output by selecting the choice with the highest probability. The code below concatenates the probabilities and choices together."
   ]
  },
  {
   "cell_type": "code",
   "execution_count": 17,
   "metadata": {},
   "outputs": [
    {
     "data": {
      "text/html": [
       "<div>\n",
       "<style scoped>\n",
       "    .dataframe tbody tr th:only-of-type {\n",
       "        vertical-align: middle;\n",
       "    }\n",
       "\n",
       "    .dataframe tbody tr th {\n",
       "        vertical-align: top;\n",
       "    }\n",
       "\n",
       "    .dataframe thead th {\n",
       "        text-align: right;\n",
       "    }\n",
       "</style>\n",
       "<table border=\"1\" class=\"dataframe\">\n",
       "  <thead>\n",
       "    <tr style=\"text-align: right;\">\n",
       "      <th></th>\n",
       "      <th>0</th>\n",
       "      <th>1</th>\n",
       "      <th>2</th>\n",
       "      <th>3</th>\n",
       "    </tr>\n",
       "  </thead>\n",
       "  <tbody>\n",
       "    <tr>\n",
       "      <th>0</th>\n",
       "      <td>0.588326</td>\n",
       "      <td>0.059794</td>\n",
       "      <td>0.075032</td>\n",
       "      <td>0.276848</td>\n",
       "    </tr>\n",
       "    <tr>\n",
       "      <th>1</th>\n",
       "      <td>0.815734</td>\n",
       "      <td>0.046918</td>\n",
       "      <td>0.026353</td>\n",
       "      <td>0.110996</td>\n",
       "    </tr>\n",
       "    <tr>\n",
       "      <th>2</th>\n",
       "      <td>0.488972</td>\n",
       "      <td>0.192655</td>\n",
       "      <td>0.071940</td>\n",
       "      <td>0.246433</td>\n",
       "    </tr>\n",
       "    <tr>\n",
       "      <th>3</th>\n",
       "      <td>0.803425</td>\n",
       "      <td>0.082208</td>\n",
       "      <td>0.029795</td>\n",
       "      <td>0.084572</td>\n",
       "    </tr>\n",
       "    <tr>\n",
       "      <th>4</th>\n",
       "      <td>0.442764</td>\n",
       "      <td>0.505007</td>\n",
       "      <td>0.028374</td>\n",
       "      <td>0.023855</td>\n",
       "    </tr>\n",
       "    <tr>\n",
       "      <th>...</th>\n",
       "      <td>...</td>\n",
       "      <td>...</td>\n",
       "      <td>...</td>\n",
       "      <td>...</td>\n",
       "    </tr>\n",
       "    <tr>\n",
       "      <th>3995</th>\n",
       "      <td>0.765334</td>\n",
       "      <td>0.061932</td>\n",
       "      <td>0.072377</td>\n",
       "      <td>0.100357</td>\n",
       "    </tr>\n",
       "    <tr>\n",
       "      <th>3996</th>\n",
       "      <td>0.373464</td>\n",
       "      <td>0.045757</td>\n",
       "      <td>0.032746</td>\n",
       "      <td>0.548032</td>\n",
       "    </tr>\n",
       "    <tr>\n",
       "      <th>3997</th>\n",
       "      <td>0.834153</td>\n",
       "      <td>0.045449</td>\n",
       "      <td>0.045774</td>\n",
       "      <td>0.074625</td>\n",
       "    </tr>\n",
       "    <tr>\n",
       "      <th>3998</th>\n",
       "      <td>0.697534</td>\n",
       "      <td>0.060855</td>\n",
       "      <td>0.035895</td>\n",
       "      <td>0.205717</td>\n",
       "    </tr>\n",
       "    <tr>\n",
       "      <th>3999</th>\n",
       "      <td>0.758953</td>\n",
       "      <td>0.108160</td>\n",
       "      <td>0.076685</td>\n",
       "      <td>0.056202</td>\n",
       "    </tr>\n",
       "  </tbody>\n",
       "</table>\n",
       "<p>4000 rows × 4 columns</p>\n",
       "</div>"
      ],
      "text/plain": [
       "             0         1         2         3\n",
       "0     0.588326  0.059794  0.075032  0.276848\n",
       "1     0.815734  0.046918  0.026353  0.110996\n",
       "2     0.488972  0.192655  0.071940  0.246433\n",
       "3     0.803425  0.082208  0.029795  0.084572\n",
       "4     0.442764  0.505007  0.028374  0.023855\n",
       "...        ...       ...       ...       ...\n",
       "3995  0.765334  0.061932  0.072377  0.100357\n",
       "3996  0.373464  0.045757  0.032746  0.548032\n",
       "3997  0.834153  0.045449  0.045774  0.074625\n",
       "3998  0.697534  0.060855  0.035895  0.205717\n",
       "3999  0.758953  0.108160  0.076685  0.056202\n",
       "\n",
       "[4000 rows x 4 columns]"
      ]
     },
     "execution_count": 17,
     "metadata": {},
     "output_type": "execute_result"
    }
   ],
   "source": [
    "from pycmtensor.results import Predict\n",
    "\n",
    "Predict(model, db).probs().to_csv(\"prob_sim.csv\", header=['1', '2', '3', '4'])\n",
    "Predict(model, db).probs()"
   ]
  },
  {
   "cell_type": "markdown",
   "metadata": {},
   "source": [
    "## Elasticites\n",
    "We can calculate the elasticities from the model too."
   ]
  },
  {
   "cell_type": "code",
   "execution_count": 13,
   "metadata": {},
   "outputs": [
    {
     "data": {
      "image/png": "[encoded data removed]",
      "text/plain": [
       "<Figure size 576x216 with 2 Axes>"
      ]
     },
     "metadata": {},
     "output_type": "display_data"
    }
   ],
   "source": [
    "from pycmtensor.statistics import elasticities\n",
    "els_1 = elasticities(model, db, prob_choice=2, wrt=\"RAIL_COST\")\n",
    "els_2 = elasticities(model, db, prob_choice=2, wrt=\"RAIL_TIME\")\n",
    "fig, axs = plt.subplots(1, 2, figsize=(8, 3), squeeze=False)\n",
    "e1 = sns.histplot(els_1, ax=axs[0, 0], stat=\"percent\")\n",
    "e2 = sns.histplot(els_2, ax=axs[0, 1], stat=\"percent\")\n",
    "e1.set(xlabel=\"Elasticity of RAIL_COST (choice:2)\", ylabel=\"Share of the population (%)\")\n",
    "e2.set(xlabel=\"Elasticity of RAIL_TIME (choice:2)\", ylabel=\"Share of the population (%)\")\n",
    "sns.despine()\n",
    "plt.tight_layout()\n",
    "plt.show()"
   ]
  }
 ],
 "metadata": {
  "interpreter": {
   "hash": "778af00a7feac2b7c56e6c502df232e5aa8589a0a8675e326528fd15e3e3c67f"
  },
  "kernelspec": {
   "display_name": "Python [conda env:icmc]",
   "language": "python",
   "name": "python3"
  },
  "language_info": {
   "codemirror_mode": {
    "name": "ipython",
    "version": 3
   },
   "file_extension": ".py",
   "mimetype": "text/x-python",
   "name": "python",
   "nbconvert_exporter": "python",
   "pygments_lexer": "ipython3",
   "version": "3.9.7"
  }
 },
 "nbformat": 4,
 "nbformat_minor": 4
}
