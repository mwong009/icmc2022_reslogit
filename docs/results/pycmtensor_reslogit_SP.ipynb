{
 "cells": [
  {
   "cell_type": "markdown",
   "metadata": {},
   "source": [
    "# SP dataset\n",
    "\n",
    "Model: ResLogit Model, 1-layer, 16 hidden units"
   ]
  },
  {
   "cell_type": "markdown",
   "metadata": {},
   "source": [
    "We import the dataset into the `cmt.Database()` class and indicate the choice column in the argument `choiceVar`."
   ]
  },
  {
   "cell_type": "code",
   "execution_count": 1,
   "metadata": {},
   "outputs": [],
   "source": [
    "import os\n",
    "import pandas as pd\n",
    "import pycmtensor as cmt\n",
    "cmt.__version__\n",
    "cmt.logger.set_level(cmt.logger.ERROR)\n",
    "\n",
    "# read csv file and set columns to UPPERCASE\n",
    "nb_path = os.path.abspath(\"\")\n",
    "model_average_sp = pd.read_csv(\"../../data/model_average_SP.csv\")\n",
    "model_average_sp.columns = model_average_sp.columns.str.upper()\n",
    "\n",
    "# load database\n",
    "db = cmt.Database(\"model_average_sp\", model_average_sp, choiceVar=\"CHOICE\")\n",
    "globals().update(db.variables)"
   ]
  },
  {
   "cell_type": "markdown",
   "metadata": {},
   "source": [
    "## Data preparation\n",
    "We perform some data cleaning and setting the choices to start from index 0."
   ]
  },
  {
   "cell_type": "code",
   "execution_count": 2,
   "metadata": {},
   "outputs": [],
   "source": [
    "# additional steps to format database\n",
    "db.data[\"CHOICE\"] -= 1\n",
    "c = db.data.loc[:, \"TT1\":\"HH_INC_ABS\"].columns.to_list()\n",
    "db.autoscale(variables=c, verbose=False)"
   ]
  },
  {
   "cell_type": "markdown",
   "metadata": {},
   "source": [
    "## Model specification\n",
    "from the `pycmtensor` library, we import two classes to help us define the betas and (neural network) weights."
   ]
  },
  {
   "cell_type": "code",
   "execution_count": 3,
   "metadata": {},
   "outputs": [],
   "source": [
    "from pycmtensor.expressions import Beta, Weights\n",
    "\n",
    "# specify Beta parameters\n",
    "b_cost = Beta(\"b_cost\", 0.0, None, None, 0)\n",
    "b_time = Beta(\"b_time\", 0.0, None, None, 0)\n",
    "b_hw = Beta(\"b_hw\", 0.0, None, None, 0)\n",
    "b_ch = Beta(\"b_ch\", 0.0, None, None, 0)\n",
    "b_hh_inc1 = Beta(\"b_hh_inc1\", 0.0, None, None, 1)  # do not estimate\n",
    "b_hh_inc2 = Beta(\"b_hh_inc2\", 0.0, None, None, 0)\n",
    "b_carav1 = Beta(\"b_carav1\", 0.0, None, None, 0)\n",
    "b_carav2 = Beta(\"b_carav2\", 0.0, None, None, 1)  # do not estimate\n",
    "b_com = Beta(\"b_com\", 0.0, None, None, 0)\n",
    "b_shop = Beta(\"b_shop\", 0.0, None, None, 0)\n",
    "b_bis = Beta(\"b_bis\", 0.0, None, None, 0)\n",
    "b_lei = Beta(\"b_lei\", 0.0, None, None, 0)\n",
    "asc_alt1 = Beta(\"asc_alt1\", 0.0, None, None, 0)\n",
    "asc_alt2 = Beta(\"asc_alt2\", 0.0, None, None, 1)  # do not estimate\n",
    "\n",
    "# specify weight parameters\n",
    "W1 = Weights(\"ResNet_01a\", (2, 16), 0, True)\n",
    "W2 = Weights(\"ResNet_01b\", (16, 2), 0, True)"
   ]
  },
  {
   "cell_type": "markdown",
   "metadata": {},
   "source": [
    "We specify the utility functions for the two choices respectively as `U_1` and `U_2`."
   ]
  },
  {
   "cell_type": "code",
   "execution_count": 4,
   "metadata": {},
   "outputs": [],
   "source": [
    "\n",
    "U_1 = (\n",
    "    b_cost * db[\"TC1\"]\n",
    "    + b_time * db[\"TT1\"]\n",
    "    + b_hw * db[\"HW1\"]\n",
    "    + b_ch * db[\"CH1\"]\n",
    "    + b_hh_inc1 * db[\"HH_INC_ABS\"]\n",
    "    + b_carav1 * db[\"CAR_AVAILABILITY\"]\n",
    "    + b_com * db[\"COMMUTE\"]\n",
    "    + b_bis * db[\"BUSINESS\"]\n",
    "    + asc_alt1\n",
    ")\n",
    "U_2 = (\n",
    "    b_cost * db[\"TC2\"]\n",
    "    + b_time * db[\"TT2\"]\n",
    "    + b_hw * db[\"HW2\"]\n",
    "    + b_ch * db[\"CH2\"]\n",
    "    + b_hh_inc2 * db[\"HH_INC_ABS\"]\n",
    "    + b_shop * db[\"SHOPPING\"]\n",
    "    + b_lei * db[\"LEISURE\"]\n",
    "    + b_carav2 * db[\"CAR_AVAILABILITY\"]\n",
    "    + asc_alt2\n",
    ")\n",
    "\n",
    "# Associate utility functions with the list\n",
    "U = [U_1, U_2]"
   ]
  },
  {
   "cell_type": "markdown",
   "metadata": {},
   "source": [
    "Here, we apply the ResLogit structure to our utility functions. `W1` and `W2` are the input and output weights of the residual layers."
   ]
  },
  {
   "cell_type": "code",
   "execution_count": 5,
   "metadata": {},
   "outputs": [],
   "source": [
    "from pycmtensor.models import ResLogitLayer\n",
    "\n",
    "# generate the output from the ResLogit Layer\n",
    "U = ResLogitLayer(U, W1, W2).output"
   ]
  },
  {
   "cell_type": "markdown",
   "metadata": {},
   "source": [
    "## Estimation\n",
    "The main estimation algorithm is as follows. We apply the Adam optimization algorithm and use a batch size of 128 samples. A cyclic learning rate is applied to the training process."
   ]
  },
  {
   "cell_type": "code",
   "execution_count": 6,
   "metadata": {},
   "outputs": [
    {
     "name": "stderr",
     "output_type": "stream",
     "text": [
      "  11 log likelihood -1382.02 | score 0.77 | learning rate 8.13e-03\n",
      "  22 log likelihood -1351.44 | score 0.77 | learning rate 6.88e-03\n",
      "  33 log likelihood -1338.48 | score 0.78 | learning rate 5.16e-03\n",
      "  45 log likelihood -1329.44 | score 0.78 | learning rate 5.47e-03\n",
      "  56 log likelihood -1322.70 | score 0.78 | learning rate 5.62e-03\n",
      "  67 log likelihood -1318.70 | score 0.78 | learning rate 5.12e-03\n",
      "  80 log likelihood -1314.26 | score 0.78 | learning rate 5.00e-03\n",
      "  91 log likelihood -1308.99 | score 0.78 | learning rate 5.10e-03\n",
      " 104 log likelihood -1306.18 | score 0.79 | learning rate 5.08e-03\n",
      " 115 log likelihood -1302.88 | score 0.78 | learning rate 5.01e-03\n",
      " 127 log likelihood -1299.53 | score 0.79 | learning rate 5.00e-03\n",
      " 142 log likelihood -1298.24 | score 0.79 | learning rate 5.00e-03\n",
      " 154 log likelihood -1295.59 | score 0.79 | learning rate 5.01e-03\n",
      " 165 log likelihood -1293.43 | score 0.79 | learning rate 5.00e-03\n",
      " 180 log likelihood -1291.42 | score 0.79 | learning rate 5.00e-03\n",
      " 196 log likelihood -1290.55 | score 0.79 | learning rate 5.00e-03\n",
      " 209 log likelihood -1290.31 | score 0.80 | learning rate 5.00e-03\n",
      " 223 log likelihood -1289.54 | score 0.80 | learning rate 5.00e-03\n",
      " 236 log likelihood -1287.42 | score 0.79 | learning rate 5.00e-03\n",
      " 254 log likelihood -1287.10 | score 0.79 | learning rate 5.00e-03\n",
      " 281 log likelihood -1285.89 | score 0.79 | learning rate 5.00e-03\n",
      " 294 log likelihood -1285.72 | score 0.79 | learning rate 5.00e-03\n",
      " 312 log likelihood -1285.01 | score 0.80 | learning rate 5.00e-03\n",
      " 330 log likelihood -1284.49 | score 0.79 | learning rate 5.00e-03\n",
      " 376 log likelihood -1283.62 | score 0.80 | learning rate 5.00e-03\n",
      " 407 log likelihood -1283.55 | score 0.80 | learning rate 5.00e-03\n",
      " 451 log likelihood -1282.68 | score 0.80 | learning rate 5.00e-03\n",
      " 486 log likelihood -1282.28 | score 0.80 | learning rate 5.00e-03\n",
      " 497 log likelihood -1282.11 | score 0.80 | learning rate 5.00e-03\n",
      " 522 log likelihood -1281.82 | score 0.80 | learning rate 5.00e-03\n",
      " 534 log likelihood -1281.75 | score 0.80 | learning rate 5.00e-03\n",
      " 587 log likelihood -1281.61 | score 0.80 | learning rate 5.00e-03\n",
      " 634 log likelihood -1281.40 | score 0.80 | learning rate 5.00e-03\n",
      " 661 log likelihood -1281.09 | score 0.80 | learning rate 5.00e-03\n",
      " 861 log likelihood -1280.76 | score 0.80 | learning rate 5.00e-03\n",
      " 872 log likelihood -1280.39 | score 0.80 | learning rate 5.00e-03\n",
      " 917 log likelihood -1280.24 | score 0.80 | learning rate 5.00e-03\n"
     ]
    },
    {
     "name": "stdout",
     "output_type": "stream",
     "text": [
      "Optimization complete with accuracy of 79.892%. Max loglikelihood reached @ epoch 917.\n",
      "\n"
     ]
    }
   ],
   "source": [
    "import dill as pickle\n",
    "from pycmtensor.models import MNLogit\n",
    "from pycmtensor.optimizers import Adam\n",
    "\n",
    "model = MNLogit(u=U, av=None, database=db, name=\"sp_model\")\n",
    "model.add_params(locals())\n",
    "model.config[\"debug\"] = True\n",
    "model.config[\"patience\"] = 20000\n",
    "model.config[\"max_epoch\"] = 1000\n",
    "model.config[\"batch_size\"] = 128\n",
    "model.config[\"base_lr\"] = 0.005\n",
    "model.config[\"max_lr\"] = 0.01\n",
    "model.config[\"learning_scheduler\"] = \"CyclicLR\"\n",
    "model.config[\"cyclic_lr_step_size\"] = 8\n",
    "\n",
    "# train function\n",
    "model = cmt.train(model, database=db, optimizer=Adam, notebook=True)"
   ]
  },
  {
   "cell_type": "markdown",
   "metadata": {},
   "source": [
    "## Results\n",
    "The results of the model are printed by calling the `Results` class on the estimated model."
   ]
  },
  {
   "cell_type": "code",
   "execution_count": 7,
   "metadata": {},
   "outputs": [
    {
     "name": "stdout",
     "output_type": "stream",
     "text": [
      "Results for model: sp_model\n",
      "Build time: 00:00:17\n",
      "Estimation time: 00:00:19\n",
      "Estimation rate: 1037.889 iter/s\n",
      "Seed value: 6061\n",
      "Number of Beta parameters: 11\n",
      "Tensor size: 64\n",
      "Sample size: 2790\n",
      "Excluded data: 0\n",
      "Init loglikelihood: -1935.049\n",
      "Final loglikelihood: -1280.238\n",
      "Final loglikelihood reached at: epoch 917\n",
      "Likelihood ratio test: 1309.622\n",
      "Accuracy: 79.892%\n",
      "Rho square: 0.338\n",
      "Rho bar square: 0.300\n",
      "Akaike Information Criterion: 2710.48\n",
      "Bayesian Information Criterion: 3155.51\n",
      "Final gradient norm: 0.116\n",
      "\n",
      "Statistical Analysis:\n",
      "              Value   Std err     t-test   p-value Rob. Std err Rob. t-test Rob. p-value\n",
      "asc_alt1   0.243232  0.923327    0.26343  0.792219     3.316236    0.073346     0.941531\n",
      "b_bis      -0.28355  0.939564  -0.301788  0.762813     3.413943   -0.083056     0.933807\n",
      "b_carav1  -0.123294  0.047985  -2.569439  0.010186     0.086281   -1.428977     0.153011\n",
      "b_ch       -0.63427  0.052094 -12.175471       0.0      0.17387   -3.647949     0.000264\n",
      "b_com     -0.061915  0.934756  -0.066237  0.947189     3.476813   -0.017808     0.985792\n",
      "b_cost    -9.737197  1.220081  -7.980778       0.0     0.250077  -38.936744          0.0\n",
      "b_hh_inc2   0.01268  0.047899   0.264715  0.791229     0.017946    0.706564     0.479837\n",
      "b_hw      -0.259472  0.019875  -13.05531       0.0      0.05193   -4.996611     0.000001\n",
      "b_lei      0.109596  0.938047   0.116835  0.906991      3.45967    0.031678     0.974729\n",
      "b_shop     0.076336  0.961117   0.079425  0.936695     3.546746    0.021523     0.982829\n",
      "b_time    -4.253913  0.387241 -10.985187       0.0     0.566823    -7.50484          0.0\n",
      "\n",
      "Correlation matrix:\n",
      "             b_cost    b_time      b_hw      b_ch  b_hh_inc2  b_carav1     b_com    b_shop     b_bis     b_lei  asc_alt1\n",
      "b_cost     1.000000  0.758123  0.349733  0.305690  -0.009456  0.009878  0.324463 -0.327940  0.337941 -0.328930 -0.336067\n",
      "b_time     0.758123  1.000000  0.604014  0.647044  -0.007682  0.134266 -0.032298  0.030644 -0.015690  0.026196  0.018101\n",
      "b_hw       0.349733  0.604014  1.000000  0.816144   0.013109  0.188328 -0.189329  0.180729 -0.175857  0.184065  0.177754\n",
      "b_ch       0.305690  0.647044  0.816144  1.000000   0.007755  0.287839 -0.423606  0.423626 -0.408454  0.419213  0.411533\n",
      "b_hh_inc2 -0.009456 -0.007682  0.013109  0.007755   1.000000  0.202242  0.076007 -0.067362  0.082869 -0.064286 -0.033753\n",
      "b_carav1   0.009878  0.134266  0.188328  0.287839   0.202242  1.000000 -0.262065  0.244062 -0.255901  0.257865  0.246909\n",
      "b_com      0.324463 -0.032298 -0.189329 -0.423606   0.076007 -0.262065  1.000000 -0.995841  0.994067 -0.998694 -0.997979\n",
      "b_shop    -0.327940  0.030644  0.180729  0.423626  -0.067362  0.244062 -0.995841  1.000000 -0.991374  0.996249  0.996142\n",
      "b_bis      0.337941 -0.015690 -0.175857 -0.408454   0.082869 -0.255901  0.994067 -0.991374  1.000000 -0.994228 -0.993464\n",
      "b_lei     -0.328930  0.026196  0.184065  0.419213  -0.064286  0.257865 -0.998694  0.996249 -0.994228  1.000000  0.998866\n",
      "asc_alt1  -0.336067  0.018101  0.177754  0.411533  -0.033753  0.246909 -0.997979  0.996142 -0.993464  0.998866  1.000000\n",
      "\n"
     ]
    }
   ],
   "source": [
    "from pycmtensor.results import Results\n",
    "\n",
    "result = Results(model, db)\n",
    "result.print_beta_statistics()\n",
    "result.print_correlation_matrix()"
   ]
  },
  {
   "cell_type": "markdown",
   "metadata": {},
   "source": [
    "Optionally, we can plot the estimation performance vs. the number of iterations. Note that the x-axis is on a log-scale."
   ]
  },
  {
   "cell_type": "code",
   "execution_count": 8,
   "metadata": {},
   "outputs": [
    {
     "data": {
      "image/png": "[encoded data removed]",
      "text/plain": [
       "<Figure size 864x216 with 3 Axes>"
      ]
     },
     "metadata": {},
     "output_type": "display_data"
    }
   ],
   "source": [
    "import seaborn as sns\n",
    "import matplotlib.pyplot as plt\n",
    "\n",
    "sns.set_style(\"ticks\")\n",
    "sns.set_context(\"notebook\", font_scale=1.0, rc={\"lines.linewidth\": 1.2})\n",
    "log = model.tracker.get_data()\n",
    "fig, axs = plt.subplots(1, 3, figsize=(12, 3), squeeze=False)\n",
    "g1 = sns.lineplot(ax=axs[0, 0], data=log, x=log.index, y=\"full_ll\", color=\"red\")\n",
    "g2 = sns.lineplot(ax=axs[0, 1], data=log, x=log.index, y=\"lr\", color=\"red\")\n",
    "g3 = sns.lineplot(\n",
    "    ax=axs[0, 2], data=log, x=log.index, y=\"score\", color=\"red\"\n",
    ")  # y = score or full_ll or lr\n",
    "g1.set(xscale=\"log\", xlabel=\"iterations\", ylabel=\"log likelihood\")\n",
    "g2.set(xscale=\"log\", xlabel=\"iterations\", ylabel=\"learning rate\")\n",
    "g3.set(xscale=\"log\", xlabel=\"iterations\", ylabel=\"accuracy\")\n",
    "sns.despine()\n",
    "plt.tight_layout()\n",
    "plt.show()\n"
   ]
  },
  {
   "cell_type": "markdown",
   "metadata": {},
   "source": [
    "## Output choice probabilities\n",
    "To generate the probability outputs, we call the `Predict` class on the model `model` and the database `db`. Two methods are used: `probs()` to generate the probabilities and `choices()` to generate a pseudo-choice output by selecting the choice with the highest probability. The code below concatenates the probabilities and choices together."
   ]
  },
  {
   "cell_type": "code",
   "execution_count": 11,
   "metadata": {},
   "outputs": [
    {
     "data": {
      "text/html": [
       "<div>\n",
       "<style scoped>\n",
       "    .dataframe tbody tr th:only-of-type {\n",
       "        vertical-align: middle;\n",
       "    }\n",
       "\n",
       "    .dataframe tbody tr th {\n",
       "        vertical-align: top;\n",
       "    }\n",
       "\n",
       "    .dataframe thead th {\n",
       "        text-align: right;\n",
       "    }\n",
       "</style>\n",
       "<table border=\"1\" class=\"dataframe\">\n",
       "  <thead>\n",
       "    <tr style=\"text-align: right;\">\n",
       "      <th></th>\n",
       "      <th>0</th>\n",
       "      <th>1</th>\n",
       "    </tr>\n",
       "  </thead>\n",
       "  <tbody>\n",
       "    <tr>\n",
       "      <th>0</th>\n",
       "      <td>0.205013</td>\n",
       "      <td>0.794987</td>\n",
       "    </tr>\n",
       "    <tr>\n",
       "      <th>1</th>\n",
       "      <td>0.112170</td>\n",
       "      <td>0.887830</td>\n",
       "    </tr>\n",
       "    <tr>\n",
       "      <th>2</th>\n",
       "      <td>0.917548</td>\n",
       "      <td>0.082452</td>\n",
       "    </tr>\n",
       "    <tr>\n",
       "      <th>3</th>\n",
       "      <td>0.197943</td>\n",
       "      <td>0.802057</td>\n",
       "    </tr>\n",
       "    <tr>\n",
       "      <th>4</th>\n",
       "      <td>0.057050</td>\n",
       "      <td>0.942950</td>\n",
       "    </tr>\n",
       "    <tr>\n",
       "      <th>...</th>\n",
       "      <td>...</td>\n",
       "      <td>...</td>\n",
       "    </tr>\n",
       "    <tr>\n",
       "      <th>2785</th>\n",
       "      <td>0.701964</td>\n",
       "      <td>0.298036</td>\n",
       "    </tr>\n",
       "    <tr>\n",
       "      <th>2786</th>\n",
       "      <td>0.132404</td>\n",
       "      <td>0.867596</td>\n",
       "    </tr>\n",
       "    <tr>\n",
       "      <th>2787</th>\n",
       "      <td>0.627345</td>\n",
       "      <td>0.372655</td>\n",
       "    </tr>\n",
       "    <tr>\n",
       "      <th>2788</th>\n",
       "      <td>0.148950</td>\n",
       "      <td>0.851050</td>\n",
       "    </tr>\n",
       "    <tr>\n",
       "      <th>2789</th>\n",
       "      <td>0.133497</td>\n",
       "      <td>0.866503</td>\n",
       "    </tr>\n",
       "  </tbody>\n",
       "</table>\n",
       "<p>2790 rows × 2 columns</p>\n",
       "</div>"
      ],
      "text/plain": [
       "             0         1\n",
       "0     0.205013  0.794987\n",
       "1     0.112170  0.887830\n",
       "2     0.917548  0.082452\n",
       "3     0.197943  0.802057\n",
       "4     0.057050  0.942950\n",
       "...        ...       ...\n",
       "2785  0.701964  0.298036\n",
       "2786  0.132404  0.867596\n",
       "2787  0.627345  0.372655\n",
       "2788  0.148950  0.851050\n",
       "2789  0.133497  0.866503\n",
       "\n",
       "[2790 rows x 2 columns]"
      ]
     },
     "execution_count": 11,
     "metadata": {},
     "output_type": "execute_result"
    }
   ],
   "source": [
    "from pycmtensor.results import Predict\n",
    "\n",
    "Predict(model, db).probs().to_csv(\"prob_SP.csv\", header=['1', '2'])\n",
    "Predict(model, db).probs()"
   ]
  },
  {
   "cell_type": "markdown",
   "metadata": {},
   "source": [
    "## Elasticites\n",
    "We can calculate the elasticities from the model too."
   ]
  },
  {
   "cell_type": "code",
   "execution_count": 10,
   "metadata": {},
   "outputs": [
    {
     "data": {
      "image/png": "[encoded data removed]",
      "text/plain": [
       "<Figure size 576x432 with 4 Axes>"
      ]
     },
     "metadata": {},
     "output_type": "display_data"
    }
   ],
   "source": [
    "from pycmtensor.statistics import elasticities\n",
    "els_0_TT1 = elasticities(model, db, prob_choice=0, wrt=\"TT1\")\n",
    "els_0_TC1 = elasticities(model, db, prob_choice=0, wrt=\"TC1\")\n",
    "els_1_TT2 = elasticities(model, db, prob_choice=1, wrt=\"TT2\")\n",
    "els_1_TC1 = elasticities(model, db, prob_choice=1, wrt=\"TC2\")\n",
    "fig, axs = plt.subplots(2, 2, figsize=(8, 6), squeeze=False)\n",
    "e1 = sns.histplot(els_0_TT1, ax=axs[0, 0], stat=\"percent\")\n",
    "e2 = sns.histplot(els_0_TC1, ax=axs[0, 1], stat=\"percent\")\n",
    "e3 = sns.histplot(els_1_TT2, ax=axs[1, 0], stat=\"percent\")\n",
    "e4 = sns.histplot(els_1_TC1, ax=axs[1, 1], stat=\"percent\")\n",
    "e1.set(xlabel=\"Elasticity of TT1 (choice:0)\", ylabel=\"Share of the population (%)\")\n",
    "e2.set(xlabel=\"Elasticity of TC1 (choice:0)\", ylabel=\"Share of the population (%)\")\n",
    "e3.set(xlabel=\"Elasticity of TT2 (choice:1)\", ylabel=\"Share of the population (%)\")\n",
    "e4.set(xlabel=\"Elasticity of TC2 (choice:1)\", ylabel=\"Share of the population (%)\")\n",
    "sns.despine()\n",
    "plt.tight_layout()\n",
    "plt.show()"
   ]
  }
 ],
 "metadata": {
  "interpreter": {
   "hash": "778af00a7feac2b7c56e6c502df232e5aa8589a0a8675e326528fd15e3e3c67f"
  },
  "kernelspec": {
   "display_name": "Python [conda env:icmc]",
   "language": "python",
   "name": "python3"
  },
  "language_info": {
   "codemirror_mode": {
    "name": "ipython",
    "version": 3
   },
   "file_extension": ".py",
   "mimetype": "text/x-python",
   "name": "python",
   "nbconvert_exporter": "python",
   "pygments_lexer": "ipython3",
   "version": "3.9.7"
  }
 },
 "nbformat": 4,
 "nbformat_minor": 4
}
