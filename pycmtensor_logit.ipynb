{
 "cells": [
  {
   "cell_type": "code",
   "execution_count": 1,
   "metadata": {},
   "outputs": [],
   "source": [
    "%reload_ext autoreload\n",
    "%autoreload 2"
   ]
  },
  {
   "cell_type": "code",
   "execution_count": 3,
   "metadata": {},
   "outputs": [],
   "source": [
    "import aesara.tensor as aet\n",
    "from pycmtensor.models import PyCMTensorModel\n",
    "\n",
    "class ResLogitLayer:\n",
    "    def __init__(self, u, w_in, w_out, activation=None):\n",
    "        \n",
    "        assert w_in.shape[1].eval() == w_out.shape[0].eval()\n",
    "        assert isinstance(w_in, (Weights)), \"w_in must be of type Weights\"\n",
    "        assert isinstance(w_out, (Weights)), \"w_out must be of type Weights\"\n",
    "        \n",
    "        if isinstance(u, (list, tuple)):\n",
    "            assert len(u) == w_in.shape[0].eval(), f\"index.0 of w_in must be of the same length as u\"\n",
    "            self.U = aet.stacklists(u).flatten(2)\n",
    "        else:\n",
    "            self.U = u\n",
    "\n",
    "        self.w_in = w_in()\n",
    "        self.w_out = w_out()\n",
    "        if activation == None:\n",
    "            activation = aet.sigmoid\n",
    "            \n",
    "        h = activation(aet.dot(self.U.T, self.w_in))\n",
    "        output = activation(aet.dot(h, self.w_out)).T\n",
    "        self.params = [self.w_in, self.w_out]\n",
    "        self.output = output + self.U\n",
    "\n",
    "    \n",
    "    def __repr__(self):\n",
    "        return f\"ResLogitLayer([{self.w_in.shape.eval()}, {self.w_out.shape.eval()}])\""
   ]
  },
  {
   "cell_type": "code",
   "execution_count": 4,
   "metadata": {},
   "outputs": [
    {
     "name": "stdout",
     "output_type": "stream",
     "text": [
      "Building model...\n",
      "dataset: model_average_sp (2790)\n",
      "batch size: 100\n",
      "batches per epoch: 27\n",
      "validation frequency: 27\n",
      "\n",
      "Training model...\n"
     ]
    },
    {
     "data": {
      "application/vnd.jupyter.widget-view+json": {
       "model_id": "bc1125f945b04e7d929a0082f75c1fb2",
       "version_major": 2,
       "version_minor": 0
      },
      "text/plain": [
       "Loglikelihood:  -1966.516153  Score: 0.502"
      ]
     },
     "metadata": {},
     "output_type": "display_data"
    },
    {
     "data": {
      "application/vnd.jupyter.widget-view+json": {
       "model_id": "9806da7f53f84e77b406d01e3ea44f7c",
       "version_major": 2,
       "version_minor": 0
      },
      "text/plain": [
       "Epoch    0/26973:   0%|          | 0.00/27.0k [00:00<?, ?it/s]"
      ]
     },
     "metadata": {},
     "output_type": "display_data"
    },
    {
     "name": "stdout",
     "output_type": "stream",
     "text": [
      "Optimization complete with accuracy of 79.606% with maximum loglikelihood reached @ epoch 999.\n",
      "\n",
      "Results for model: mymodel\n",
      "Build time: 00:00:12\n",
      "Estimation time: 00:00:56\n",
      "Estimation rate: 17.801 epochs/s\n",
      "Seed value: 999\n",
      "Number of Beta parameters: 11\n",
      "Tensor size: 40\n",
      "Sample size: 2790\n",
      "Excluded data: 0\n",
      "Init loglikelihood: -1966.516\n",
      "Final loglikelihood: -1282.160\n",
      "Final loglikelihood reached at: epoch 999\n",
      "Likelihood ratio test: 1368.712\n",
      "Accuracy: 79.606%\n",
      "Rho square: 0.348\n",
      "Rho bar square: 0.322\n",
      "Akaike Information Criterion: 2666.32\n",
      "Bayesian Information Criterion: 2968.94\n",
      "Final gradient norm: 0.012\n",
      "\n",
      "Statistical Analysis:\n",
      "              Value   Std err     t-test   p-value Rob. Std err  Rob. t-test Rob. p-value\n",
      "asc_alt1        0.0         -          -         -            -            -            -\n",
      "asc_alt2   0.241534  0.631401   0.382537  0.702063     0.600677     0.402103     0.687608\n",
      "b_bis      0.234032  0.641619   0.364753  0.715296     0.593899     0.394061     0.693536\n",
      "b_carav1  -0.125164  0.047996   -2.60778  0.009113     0.000461  -271.636353          0.0\n",
      "b_carav2        0.0         -          -         -            -            -            -\n",
      "b_ch      -0.622693  0.047792 -13.029329       0.0     0.032329   -19.261193          0.0\n",
      "b_com       0.37982  0.629594   0.603278  0.546324     0.622233     0.610415     0.541587\n",
      "b_cost    -9.452827  1.168415  -8.090296       0.0     0.279572    -33.81172          0.0\n",
      "b_hh_inc1 -0.023702  0.046874  -0.505654    0.6131     0.003822    -6.201129          0.0\n",
      "b_hh_inc2       0.0         -          -         -            -            -            -\n",
      "b_hw      -0.237921  0.017927 -13.271965       0.0     0.002659   -89.481181          0.0\n",
      "b_lei      0.377465  0.630995   0.598206  0.549702      0.60872     0.620097     0.535194\n",
      "b_shop     0.400155  0.629633   0.635538  0.525078     0.597717     0.669473     0.503194\n",
      "b_time    -4.176718  0.384258 -10.869579       0.0     0.000748 -5582.416647          0.0 \n",
      "\n",
      "ResNet_01a (2, 10) init: random\n",
      "[[ 1.36355281 -0.71686797 -1.46048228  2.04535659 -0.69606067 -1.34941538\n",
      "   1.58439761  1.40413271 -2.18725942 -2.22883549]\n",
      " [-1.86675241  1.17951936  1.98294133 -1.46875506  1.16587906  1.85423482\n",
      "  -1.07576426 -1.91199669  1.59159987  1.62502942]]\n",
      "\n",
      "ResNet_01b (10, 2) init: random\n",
      "[[ 1.62622406 -1.93771336]\n",
      " [-1.23466505  1.09479766]\n",
      " [-5.21997781  5.90818961]\n",
      " [ 5.71205333 -6.34419221]\n",
      " [-1.49259605  0.68401864]\n",
      " [-5.07190761  5.15162364]\n",
      " [ 4.66283459 -3.23611062]\n",
      " [ 1.74862249 -1.53682853]\n",
      " [-2.14187153  1.5439786 ]\n",
      " [-1.44313274  1.85506704]]\n",
      "\n"
     ]
    }
   ],
   "source": [
    "import os\n",
    "import dill as pickle\n",
    "import pandas as pd\n",
    "import aesara.tensor as aet\n",
    "import pycmtensor as cmt\n",
    "from pycmtensor.expressions import Beta, Weights\n",
    "from pycmtensor.optimizers import Adam\n",
    "from pycmtensor.results import Results\n",
    "from pycmtensor.models import MNLogit\n",
    "\n",
    "nb_path = os.path.abspath(\"\")\n",
    "model_average_sp = pd.read_csv(\"data/model_average_SP.csv\")\n",
    "model_average_sp.columns = model_average_sp.columns.str.upper()\n",
    "model_average_sp[[\"AV1\", \"AV2\"]] = 1\n",
    "db = cmt.Database(\"model_average_sp\", model_average_sp, choiceVar=\"CHOICE\")\n",
    "globals().update(db.variables)\n",
    "\n",
    "# additional steps to format database\n",
    "db.data['CHOICE'] -= 1\n",
    "c = db.data.loc[:, 'TT1': 'HH_INC_ABS'].columns.to_list()\n",
    "db.autoscale(variables=c, verbose=False)\n",
    "\n",
    "# specify Beta parameters\n",
    "b_cost = Beta(\"b_cost\", 0.0, None, None, 0)\n",
    "b_time = Beta(\"b_time\", 0.0, None, None, 0)\n",
    "b_hw = Beta(\"b_hw\", 0.0, None, None, 0)\n",
    "b_ch = Beta(\"b_ch\", 0.0, None, None, 0)\n",
    "b_hh_inc1 = Beta(\"b_hh_inc1\", 0.0, None, None, 0)\n",
    "b_hh_inc2 = Beta(\"b_hh_inc2\", 0.0, None, None, 1)\n",
    "b_carav1 = Beta(\"b_carav1\", 0.0, None, None, 0)\n",
    "b_carav2 = Beta(\"b_carav2\", 0.0, None, None, 1)\n",
    "b_com = Beta(\"b_com\", 0.0, None, None, 0)\n",
    "b_shop = Beta(\"b_shop\", 0.0, None, None, 0)\n",
    "b_bis = Beta(\"b_bis\", 0.0, None, None, 0)\n",
    "b_lei = Beta(\"b_lei\", 0.0, None, None, 0)\n",
    "asc_alt1 = Beta(\"asc_alt1\", 0.0, None, None, 1)\n",
    "asc_alt2 = Beta(\"asc_alt2\", 0.0, None, None, 0)\n",
    "\n",
    "# specify weight parameters\n",
    "W1 = Weights(\"ResNet_01a\", (2, 10), 0, True)\n",
    "W2 = Weights(\"ResNet_01b\", (10, 2), 0, True)\n",
    "\n",
    "U_1 = (\n",
    "    b_cost * db[\"TC1\"] + b_time * db[\"TT1\"] + b_hw * db[\"HW1\"] + b_ch * db[\"CH1\"] \n",
    "    + b_hh_inc1 * db[\"HH_INC_ABS\"] + b_carav1 * db[\"CAR_AVAILABILITY\"]\n",
    "    + b_com * db[\"COMMUTE\"] + b_shop * db[\"SHOPPING\"] + b_bis * db[\"BUSINESS\"] \n",
    "    + b_lei * db[\"LEISURE\"]\n",
    "    + asc_alt1\n",
    ")\n",
    "U_2 = (\n",
    "    b_cost * db[\"TC2\"] + b_time * db[\"TT2\"] + b_hw * db[\"HW2\"] + b_ch * db[\"CH2\"] \n",
    "    + b_hh_inc2 * db[\"HH_INC_ABS\"] + b_carav2 * db[\"CAR_AVAILABILITY\"]\n",
    "    + asc_alt2\n",
    ")\n",
    "\n",
    "# Associate utility functions with the list\n",
    "# U = [U_1, U_2]\n",
    "\n",
    "U = ResLogitLayer([U_1, U_2], W1, W2).output\n",
    "\n",
    "# Associate the availability conditions with the alternatives\n",
    "av = [db[\"AV1\"], db[\"AV2\"]]\n",
    "\n",
    "# rll = ResLogitLayer(U, W1, W2)\n",
    "model = MNLogit(U, av, database=db, name=\"mymodel\")\n",
    "model.add_params(locals())\n",
    "\n",
    "\n",
    "# train function\n",
    "model = cmt.train(model, database=db, optimizer=Adam, batch_size=100, lr_init=0.01, max_epoch=999, notebook=True)\n",
    "\n",
    "with open(\"myModel.pkl\", \"rb\") as f:\n",
    "    model = pickle.load(f)\n",
    "\n",
    "result = Results(model, db, show_weights=True)"
   ]
  },
  {
   "cell_type": "code",
   "execution_count": 5,
   "metadata": {},
   "outputs": [
    {
     "name": "stdout",
     "output_type": "stream",
     "text": [
      "Results for model: mymodel\n",
      "Build time: 00:00:12\n",
      "Estimation time: 00:00:56\n",
      "Estimation rate: 17.801 epochs/s\n",
      "Seed value: 999\n",
      "Number of Beta parameters: 11\n",
      "Tensor size: 40\n",
      "Sample size: 2790\n",
      "Excluded data: 0\n",
      "Init loglikelihood: -1966.516\n",
      "Final loglikelihood: -1282.160\n",
      "Final loglikelihood reached at: epoch 999\n",
      "Likelihood ratio test: 1368.712\n",
      "Accuracy: 79.606%\n",
      "Rho square: 0.348\n",
      "Rho bar square: 0.322\n",
      "Akaike Information Criterion: 2666.32\n",
      "Bayesian Information Criterion: 2968.94\n",
      "Final gradient norm: 0.012\n",
      "\n",
      "Statistical Analysis:\n",
      "              Value   Std err     t-test   p-value Rob. Std err  Rob. t-test Rob. p-value\n",
      "asc_alt1        0.0         -          -         -            -            -            -\n",
      "asc_alt2   0.241534  0.631401   0.382537  0.702063     0.600677     0.402103     0.687608\n",
      "b_bis      0.234032  0.641619   0.364753  0.715296     0.593899     0.394061     0.693536\n",
      "b_carav1  -0.125164  0.047996   -2.60778  0.009113     0.000461  -271.636353          0.0\n",
      "b_carav2        0.0         -          -         -            -            -            -\n",
      "b_ch      -0.622693  0.047792 -13.029329       0.0     0.032329   -19.261193          0.0\n",
      "b_com       0.37982  0.629594   0.603278  0.546324     0.622233     0.610415     0.541587\n",
      "b_cost    -9.452827  1.168415  -8.090296       0.0     0.279572    -33.81172          0.0\n",
      "b_hh_inc1 -0.023702  0.046874  -0.505654    0.6131     0.003822    -6.201129          0.0\n",
      "b_hh_inc2       0.0         -          -         -            -            -            -\n",
      "b_hw      -0.237921  0.017927 -13.271965       0.0     0.002659   -89.481181          0.0\n",
      "b_lei      0.377465  0.630995   0.598206  0.549702      0.60872     0.620097     0.535194\n",
      "b_shop     0.400155  0.629633   0.635538  0.525078     0.597717     0.669473     0.503194\n",
      "b_time    -4.176718  0.384258 -10.869579       0.0     0.000748 -5582.416647          0.0 \n",
      "\n",
      "ResNet_01a (2, 10) init: random\n",
      "[[ 1.36355281 -0.71686797 -1.46048228  2.04535659 -0.69606067 -1.34941538\n",
      "   1.58439761  1.40413271 -2.18725942 -2.22883549]\n",
      " [-1.86675241  1.17951936  1.98294133 -1.46875506  1.16587906  1.85423482\n",
      "  -1.07576426 -1.91199669  1.59159987  1.62502942]]\n",
      "\n",
      "ResNet_01b (10, 2) init: random\n",
      "[[ 1.62622406 -1.93771336]\n",
      " [-1.23466505  1.09479766]\n",
      " [-5.21997781  5.90818961]\n",
      " [ 5.71205333 -6.34419221]\n",
      " [-1.49259605  0.68401864]\n",
      " [-5.07190761  5.15162364]\n",
      " [ 4.66283459 -3.23611062]\n",
      " [ 1.74862249 -1.53682853]\n",
      " [-2.14187153  1.5439786 ]\n",
      " [-1.44313274  1.85506704]]\n",
      "\n"
     ]
    }
   ],
   "source": [
    "result = Results(model, db, show_weights=True)\n"
   ]
  },
  {
   "cell_type": "code",
   "execution_count": 6,
   "metadata": {},
   "outputs": [
    {
     "data": {
      "text/plain": [
       "biogeme.expressions.Variable"
      ]
     },
     "execution_count": 6,
     "metadata": {},
     "output_type": "execute_result"
    }
   ],
   "source": [
    "type(db.TC1)"
   ]
  }
 ],
 "metadata": {
  "interpreter": {
   "hash": "575f4c83e6c945bf6b436f32137fdb9e47ae52ca23c478d1236c3bc0f888c6b0"
  },
  "kernelspec": {
   "display_name": "Python 3.9.7 ('icmc-comp')",
   "language": "python",
   "name": "python3"
  },
  "language_info": {
   "codemirror_mode": {
    "name": "ipython",
    "version": 3
   },
   "file_extension": ".py",
   "mimetype": "text/x-python",
   "name": "python",
   "nbconvert_exporter": "python",
   "pygments_lexer": "ipython3",
   "version": "3.9.7"
  },
  "orig_nbformat": 4
 },
 "nbformat": 4,
 "nbformat_minor": 2
}
