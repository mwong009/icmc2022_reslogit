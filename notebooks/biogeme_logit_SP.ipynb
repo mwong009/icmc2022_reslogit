{
 "cells": [
  {
   "cell_type": "markdown",
   "metadata": {},
   "source": [
    "# SP dataset\n",
    "Biogeme Logit model"
   ]
  },
  {
   "cell_type": "code",
   "execution_count": 1,
   "metadata": {},
   "outputs": [],
   "source": [
    "import shutil\n",
    "import pycmtensor as cmt\n",
    "from pycmtensor.expressions import Beta\n"
   ]
  },
  {
   "cell_type": "code",
   "execution_count": 2,
   "metadata": {},
   "outputs": [],
   "source": [
    "import os\n",
    "import pandas as pd\n",
    "\n",
    "# read csv file and set columns to UPPERCASE\n",
    "nb_path = os.path.abspath(\"\")\n",
    "model_average_sp = pd.read_csv(\"data/model_average_SP.csv\")\n",
    "model_average_sp.columns = model_average_sp.columns.str.upper()\n",
    "\n",
    "# load database\n",
    "db = cmt.Database(\"model_average_sp\", model_average_sp, choiceVar=\"CHOICE\")\n",
    "globals().update(db.variables)\n",
    "\n",
    "# additional steps to format database\n",
    "db.data['CHOICE'] -= 1\n",
    "db.choices = sorted(db.data[\"CHOICE\"].unique()) # save original choices\n",
    "db.autoscale(list(db.data.loc[:, 'TT1': 'HH_INC_ABS'].columns), verbose=False)\n"
   ]
  },
  {
   "cell_type": "code",
   "execution_count": 3,
   "metadata": {},
   "outputs": [],
   "source": [
    "# specify Beta parameters\n",
    "b_cost = Beta(\"b_cost\", 0.0, None, None, 0)\n",
    "b_time = Beta(\"b_time\", 0.0, None, None, 0)\n",
    "b_hw = Beta(\"b_hw\", 0.0, None, None, 0)\n",
    "b_ch = Beta(\"b_ch\", 0.0, None, None, 0)\n",
    "b_hh_inc1 = Beta(\"b_hh_inc1\", 0.0, None, None, 0)\n",
    "b_hh_inc2 = Beta(\"b_hh_inc2\", 0.0, None, None, 1)\n",
    "b_carav1 = Beta(\"b_carav1\", 0.0, None, None, 0)\n",
    "b_carav2 = Beta(\"b_carav2\", 0.0, None, None, 1)\n",
    "b_com = Beta(\"b_com\", 0.0, None, None, 0)\n",
    "b_shop = Beta(\"b_shop\", 0.0, None, None, 0)\n",
    "b_bis = Beta(\"b_bis\", 0.0, None, None, 0)\n",
    "b_lei = Beta(\"b_lei\", 0.0, None, None, 0)\n",
    "asc_alt1 = Beta(\"asc_alt1\", 0.0, None, None, 0)\n",
    "asc_alt2 = Beta(\"asc_alt2\", 0.0, None, None, 1)\n",
    "\n",
    "U_1 = (\n",
    "    b_cost * TC1 + b_time * TT1 + b_hw * HW1 + b_ch * CH1 \n",
    "    + b_hh_inc1 * HH_INC_ABS + b_carav1 * CAR_AVAILABILITY\n",
    "    + b_com * COMMUTE + b_shop * SHOPPING + b_bis * BUSINESS + b_lei * LEISURE\n",
    "    + asc_alt1\n",
    ")\n",
    "U_2 = (\n",
    "    b_cost * TC2 + b_time * TT2 + b_hw * HW2 + b_ch * CH2 \n",
    "    + b_hh_inc2 * HH_INC_ABS + b_carav2 * CAR_AVAILABILITY\n",
    "    + asc_alt2\n",
    ")\n",
    "\n",
    "# Associate utility functions with the numbering of alternatives\n",
    "V = {0: U_1, 1: U_2}\n",
    "\n",
    "# Associate the availability conditions with the alternatives\n",
    "av = {0: 1, 1: 1}\n"
   ]
  },
  {
   "cell_type": "code",
   "execution_count": 4,
   "metadata": {},
   "outputs": [],
   "source": [
    "import biogeme.biogeme as bio\n",
    "from biogeme.models import loglogit\n",
    "\n",
    "# Definition of the model. This is the contribution of each\n",
    "# observation to the log likelihood function.\n",
    "logprob = loglogit(V, av, CHOICE)\n",
    "\n",
    "# Create the Biogeme object\n",
    "biogeme = bio.BIOGEME(db, logprob)\n",
    "biogeme.modelName = 'logit_SP'\n",
    "\n",
    "# Calculate the null log likelihood for reporting.\n",
    "biogeme.calculateNullLoglikelihood(av)\n",
    "\n",
    "if os.path.isdir(biogeme.modelName):\n",
    "    shutil.rmtree(biogeme.modelName)\n",
    "try:\n",
    "    os.mkdir(biogeme.modelName)\n",
    "    os.chdir(biogeme.modelName)\n",
    "    \n",
    "    # Estimate the parameters\n",
    "    results = biogeme.estimate()\n",
    "    os.chdir(\"..\")\n",
    "except:\n",
    "  print(\"An exception occurred\")\n"
   ]
  },
  {
   "cell_type": "code",
   "execution_count": 5,
   "metadata": {},
   "outputs": [
    {
     "name": "stdout",
     "output_type": "stream",
     "text": [
      "Number of estimated parameters:\t11\n",
      "Sample size:\t2790\n",
      "Excluded observations:\t0\n",
      "Null log likelihood:\t-1933.881\n",
      "Init log likelihood:\t-1933.881\n",
      "Final log likelihood:\t-1324.212\n",
      "Likelihood ratio test for the null model:\t1219.337\n",
      "Rho-square for the null model:\t0.315\n",
      "Rho-square-bar for the null model:\t0.31\n",
      "Likelihood ratio test for the init. model:\t1219.337\n",
      "Rho-square for the init. model:\t0.315\n",
      "Rho-square-bar for the init. model:\t0.31\n",
      "Akaike Information Criterion:\t2670.425\n",
      "Bayesian Information Criterion:\t2735.697\n",
      "Final gradient norm:\t7.1856E-03\n",
      "Nbr of threads:\t8\n",
      "\n",
      "               Value   Std err     t-test       p-value  Rob. Std err  \\\n",
      "asc_alt1    0.088713  0.091370   0.970926  3.315852e-01      0.093049   \n",
      "b_bis      -0.113828  0.145422  -0.782745  4.337766e-01      0.146682   \n",
      "b_carav1   -0.280896  0.103336  -2.718273  6.562376e-03      0.102303   \n",
      "b_ch       -1.146564  0.048602 -23.591000  0.000000e+00      0.050669   \n",
      "b_com       0.121408  0.089838   1.351410  1.765642e-01      0.087093   \n",
      "b_cost    -11.632858  1.493540  -7.788780  6.661338e-15      2.064731   \n",
      "b_hh_inc1  -0.060240  0.112881  -0.533658  5.935781e-01      0.114913   \n",
      "b_hw       -0.385765  0.020944 -18.418686  0.000000e+00      0.022067   \n",
      "b_lei       0.034836  0.073187   0.475988  6.340830e-01      0.073911   \n",
      "b_shop      0.046298  0.139725   0.331351  7.403791e-01      0.138737   \n",
      "b_time     -5.916192  0.470080 -12.585499  0.000000e+00      0.583058   \n",
      "\n",
      "           Rob. t-test  Rob. p-value  \n",
      "asc_alt1      0.953404  3.403854e-01  \n",
      "b_bis        -0.776021  4.377366e-01  \n",
      "b_carav1     -2.745727  6.037690e-03  \n",
      "b_ch        -22.628503  0.000000e+00  \n",
      "b_com         1.393999  1.633178e-01  \n",
      "b_cost       -5.634079  1.759968e-08  \n",
      "b_hh_inc1    -0.524223  6.001236e-01  \n",
      "b_hw        -17.481614  0.000000e+00  \n",
      "b_lei         0.471325  6.374083e-01  \n",
      "b_shop        0.333709  7.385990e-01  \n",
      "b_time      -10.146824  0.000000e+00  \n"
     ]
    }
   ],
   "source": [
    "print(results.printGeneralStatistics())\n",
    "# Get the results in a pandas table\n",
    "print(results.getEstimatedParameters())\n"
   ]
  }
 ],
 "metadata": {
  "interpreter": {
   "hash": "7a3e5aa886a5fec7d87835cc023a343407d12893b10e9d62ebdf026772575f87"
  },
  "kernelspec": {
   "display_name": "Python 3.9.7 ('icmc_comp')",
   "language": "python",
   "name": "python3"
  },
  "language_info": {
   "codemirror_mode": {
    "name": "ipython",
    "version": 3
   },
   "file_extension": ".py",
   "mimetype": "text/x-python",
   "name": "python",
   "nbconvert_exporter": "python",
   "pygments_lexer": "ipython3",
   "version": "3.9.7"
  },
  "orig_nbformat": 4
 },
 "nbformat": 4,
 "nbformat_minor": 2
}
