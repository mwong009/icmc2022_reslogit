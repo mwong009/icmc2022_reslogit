{
 "cells": [
  {
   "cell_type": "markdown",
   "metadata": {},
   "source": [
    "# sim dataset\n",
    "\n",
    "Model: ResLogit Model, 1-layer, 16 hidden units"
   ]
  },
  {
   "cell_type": "markdown",
   "metadata": {},
   "source": [
    "We import the dataset into the `cmt.Database()` class and indicate the choice column in the argument `choiceVar`."
   ]
  },
  {
   "cell_type": "code",
   "execution_count": 1,
   "metadata": {},
   "outputs": [],
   "source": [
    "import os\n",
    "import pandas as pd\n",
    "import pycmtensor as cmt\n",
    "cmt.__version__\n",
    "cmt.logger.set_level(cmt.logger.ERROR)"
   ]
  },
  {
   "cell_type": "code",
   "execution_count": 2,
   "metadata": {},
   "outputs": [],
   "source": [
    "import os\n",
    "import pandas as pd\n",
    "\n",
    "# read csv file and set columns to UPPERCASE\n",
    "nb_path = os.path.abspath(\"\")\n",
    "model_average_sim = pd.read_csv(\"data/model_average_sim.csv\")\n",
    "model_average_sim.columns = model_average_sim.columns.str.upper()\n",
    "\n",
    "# load database\n",
    "db = cmt.Database(\"model_average_sim\", model_average_sim, choiceVar=\"CHOICE\")\n",
    "globals().update(db.variables)"
   ]
  },
  {
   "cell_type": "markdown",
   "metadata": {},
   "source": [
    "We perform some data cleaning and setting the choices to start from index 0"
   ]
  },
  {
   "cell_type": "code",
   "execution_count": 3,
   "metadata": {},
   "outputs": [],
   "source": [
    "# additional steps to format database\n",
    "db.data[\"CHOICE\"] -= 1\n",
    "time_columns = [\"CAR_TIME\", \"AIR_TIME\", \"AIR_ACCESS\", \"RAIL_TIME\", \"RAIL_ACCESS\", \"HSR_TIME\", \"HSR_ACCESS\"]\n",
    "cost_columns = [\"CAR_COST\", \"AIR_COST\", \"RAIL_COST\", \"HSR_COST\"]\n",
    "income_columns = [\"INCOME\"]\n",
    "db.autoscale(variables=time_columns, default=60., verbose=True)\n",
    "db.autoscale(variables=cost_columns, default=100., verbose=True)\n",
    "db.autoscale(variables=income_columns, default=1000., verbose=True)"
   ]
  },
  {
   "cell_type": "markdown",
   "metadata": {},
   "source": [
    "from the `pycmtensor` library, we import two classes to help us define the betas and (neural network) weights."
   ]
  },
  {
   "cell_type": "code",
   "execution_count": 4,
   "metadata": {},
   "outputs": [],
   "source": [
    "from pycmtensor.expressions import Beta, Weights\n",
    "from pycmtensor import aet\n",
    "\n",
    "# specify Beta parameters\n",
    "b_cost = Beta(\"b_cost\", 0.0, None, None, 0)\n",
    "b_time = Beta(\"b_time\", 0.0, None, None, 0)\n",
    "b_access = Beta(\"b_access\", 0.0, None, None, 0)\n",
    "b_income_rail = Beta(\"b_income_rail\", 0.0, None, None, 0)\n",
    "b_income_hsr = Beta(\"b_income_hsr\", 0.0, None, None, 0)\n",
    "b_income_car = Beta(\"b_income_car\", 0.0, None, None, 0)\n",
    "b_female_car = Beta(\"b_female_car\", 0.0, None, None, 0)\n",
    "b_female_rail = Beta(\"b_female_rail\", 0.0, None, None, 0)\n",
    "b_female_air = Beta(\"b_female_air\", 0.0, None, None, 0)\n",
    "\n",
    "asc_car = Beta(\"asc_car\", 0.0, None, None, 0)\n",
    "asc_air = Beta(\"asc_air\", 0.0, None, None, 0)\n",
    "asc_rail = Beta(\"asc_rail\", 0.0, None, None, 0)\n",
    "asc_hsr = Beta(\"asc_hsr\", 0.0, None, None, 1)\n",
    "\n",
    "# specify weight parameters\n",
    "W1 = Weights(\"ResNet_01a\", (4, 16), 0, True)\n",
    "W2 = Weights(\"ResNet_01b\", (16, 4), 0, True)"
   ]
  },
  {
   "cell_type": "markdown",
   "metadata": {},
   "source": [
    "We specify the utility functions for the four choices respectively as `U_car`, `U_air`, `U_rail`, and `U_hsr`."
   ]
  },
  {
   "cell_type": "code",
   "execution_count": 5,
   "metadata": {},
   "outputs": [],
   "source": [
    "U_car = (\n",
    "    b_cost * db[\"CAR_COST\"]\n",
    "    + b_time * db[\"CAR_TIME\"]\n",
    "    + b_income_car * db[\"INCOME\"]\n",
    "    + b_female_car * db[\"FEMALE\"]\n",
    "    + asc_car\n",
    ")\n",
    "U_air = (\n",
    "    b_cost * db[\"AIR_COST\"]\n",
    "    + b_time * db[\"AIR_TIME\"]\n",
    "    + b_access * db[\"AIR_ACCESS\"]\n",
    "    + b_female_air * db[\"FEMALE\"]\n",
    "    + asc_air\n",
    ")\n",
    "U_rail = (\n",
    "    b_cost * db[\"RAIL_COST\"]\n",
    "    + b_time * db[\"RAIL_TIME\"]\n",
    "    + b_access * db[\"RAIL_ACCESS\"]\n",
    "    + b_income_rail * db[\"INCOME\"]\n",
    "    + b_female_rail * db[\"FEMALE\"]\n",
    "    + asc_rail\n",
    ")\n",
    "U_hsr = (\n",
    "    b_cost * db[\"HSR_COST\"]\n",
    "    + b_time * db[\"HSR_TIME\"]\n",
    "    + b_access * db[\"HSR_ACCESS\"]\n",
    "    + b_income_hsr * db[\"INCOME\"]\n",
    "    + asc_hsr\n",
    ")\n",
    "\n",
    "# Associate utility functions with the list\n",
    "U = [U_car, U_air, U_rail, U_hsr]"
   ]
  },
  {
   "cell_type": "markdown",
   "metadata": {},
   "source": [
    "Here we ally the ResLogit structure to our utility functions. `W1` and `W2` are the input and output weights of the residual layer."
   ]
  },
  {
   "cell_type": "code",
   "execution_count": 6,
   "metadata": {},
   "outputs": [],
   "source": [
    "import dill as pickle\n",
    "from pycmtensor.models import MNLogit, ResLogitLayer\n",
    "from pycmtensor.optimizers import Adam\n",
    "from pycmtensor.results import Results\n",
    "\n",
    "# generate the output from the ResLogit Layer\n",
    "U = ResLogitLayer(U, W1, W2).output"
   ]
  },
  {
   "cell_type": "markdown",
   "metadata": {},
   "source": [
    "The main estimation algorithm is as follows. We apply the Adam optimization algorithm and use a batch size of 256 samples. A cyclic learning rate is applied to the training process."
   ]
  },
  {
   "cell_type": "code",
   "execution_count": 7,
   "metadata": {},
   "outputs": [
    {
     "name": "stdout",
     "output_type": "stream",
     "text": [
      "dataset: model_average_sim (n=4000)\n",
      "batch size: 128\n",
      "iterations per epoch: 31\n"
     ]
    },
    {
     "data": {
      "application/vnd.jupyter.widget-view+json": {
       "model_id": "9d4628e957534a1da58f70dbf1f422d7",
       "version_major": 2,
       "version_minor": 0
      },
      "text/plain": [
       "Loglikelihood:  -5869.691  Score: 0.055"
      ]
     },
     "metadata": {},
     "output_type": "display_data"
    },
    {
     "data": {
      "application/vnd.jupyter.widget-view+json": {
       "model_id": "21144d7810f14fdc982538b8ecf553c6",
       "version_major": 2,
       "version_minor": 0
      },
      "text/plain": [
       "Epoch    0/19995:   0%|          | 0.00/20.0k [00:00<?, ?it/s]"
      ]
     },
     "metadata": {},
     "output_type": "display_data"
    },
    {
     "name": "stdout",
     "output_type": "stream",
     "text": [
      "Optimization complete with accuracy of 62.525%. Max loglikelihood reached @ epoch 645.\n",
      "\n"
     ]
    }
   ],
   "source": [
    "model = MNLogit(U, av=None, database=db, name=\"sim_model\")\n",
    "model.add_params(locals())\n",
    "model.config[\"patience\"] = 20000\n",
    "model.config[\"max_epoch\"] = 500\n",
    "model.config[\"batch_size\"] = 128\n",
    "model.config[\"base_lr\"] = 0.005\n",
    "model.config[\"max_lr\"] = 0.01\n",
    "model.config[\"learning_scheduler\"] = \"CyclicLR\"\n",
    "model.config[\"cyclic_lr_step_size\"] = 8\n",
    "\n",
    "# train function\n",
    "model = cmt.train(model, database=db, optimizer=Adam, save_model=False, notebook=True)"
   ]
  },
  {
   "cell_type": "markdown",
   "metadata": {},
   "source": [
    "The results of the model are printed by calling the `Results` class on the estimated model."
   ]
  },
  {
   "cell_type": "code",
   "execution_count": 8,
   "metadata": {},
   "outputs": [
    {
     "name": "stdout",
     "output_type": "stream",
     "text": [
      "Results for model: sim_model\n",
      "Build time: 00:00:49\n",
      "Estimation time: 00:00:59\n",
      "Estimation rate: 340.063 iter/s\n",
      "Seed value: 6656\n",
      "Number of Beta parameters: 12\n",
      "Tensor size: 128\n",
      "Sample size: 4000\n",
      "Excluded data: 0\n",
      "Init loglikelihood: -5869.691\n",
      "Final loglikelihood: -3687.990\n",
      "Final loglikelihood reached at: epoch 645\n",
      "Likelihood ratio test: 4363.403\n",
      "Accuracy: 62.525%\n",
      "Rho square: 0.372\n",
      "Rho bar square: 0.348\n",
      "Akaike Information Criterion: 7655.98\n",
      "Bayesian Information Criterion: 8537.15\n",
      "Final gradient norm: 0.137\n",
      "\n",
      "Statistical Analysis:\n",
      "                  Value   Std err     t-test   p-value Rob. Std err Rob. t-test Rob. p-value\n",
      "asc_air       -0.821927   0.15688  -5.239212       0.0     0.027292  -30.115642          0.0\n",
      "asc_car        0.569718  0.167767   3.395887  0.000684     0.040199   14.172281          0.0\n",
      "asc_rail      -0.447148  0.219741   -2.03489  0.041862     0.032189  -13.891374          0.0\n",
      "b_access      -0.329849  0.083878  -3.932475  0.000084     0.041015   -8.042162          0.0\n",
      "b_cost        -2.614035  0.100881  -25.91194       0.0     0.041072  -63.644487          0.0\n",
      "b_female_air   0.459544  0.086641   5.303982       0.0      0.03024   15.196392          0.0\n",
      "b_female_car   0.113552  0.079332    1.43136  0.152327     0.024682    4.600651     0.000004\n",
      "b_female_rail  0.414582  0.120253   3.447588  0.000566     0.020819    19.91394          0.0\n",
      "b_income_car  -0.342966   0.08535  -4.018345  0.000059     0.019599  -17.498841          0.0\n",
      "b_income_hsr  -0.080454  0.076012  -1.058444  0.289853     0.030077   -2.674924     0.007475\n",
      "b_income_rail -0.608491  0.114543  -5.312337       0.0     0.026775   -22.72609          0.0\n",
      "b_time        -0.288722  0.019489 -14.814459       0.0     0.005044  -57.243084          0.0\n",
      "\n",
      "Correlation matrix:\n",
      "                 b_cost    b_time  b_access  b_income_rail  b_income_hsr  b_income_car  b_female_car  b_female_rail  b_female_air   asc_car   asc_air  asc_rail\n",
      "b_cost         1.000000  0.148630  0.044849       0.043552     -0.024850      0.011907     -0.048659      -0.064206     -0.083139  0.207104  0.044058  0.206570\n",
      "b_time         0.148630  1.000000  0.025707       0.022769     -0.025995     -0.021369     -0.032315      -0.033540     -0.021515 -0.414434  0.236710 -0.273532\n",
      "b_access       0.044849  0.025707  1.000000      -0.040409     -0.033203     -0.027140      0.007037      -0.019992      0.015136  0.290346 -0.194113  0.106509\n",
      "b_income_rail  0.043552  0.022769 -0.040409       1.000000      0.427432      0.636089      0.014294       0.018131     -0.016909 -0.233737  0.383631 -0.595398\n",
      "b_income_hsr  -0.024850 -0.025995 -0.033203       0.427432      1.000000      0.625171      0.003674      -0.003674     -0.014898  0.263512  0.861524  0.266842\n",
      "b_income_car   0.011907 -0.021369 -0.027140       0.636089      0.625171      1.000000      0.021144       0.011654     -0.018331 -0.376148  0.537828 -0.172349\n",
      "b_female_car  -0.048659 -0.032315  0.007037       0.014294      0.003674      0.021144      1.000000       0.578051      0.332115 -0.232208 -0.086565 -0.157979\n",
      "b_female_rail -0.064206 -0.033540 -0.019992       0.018131     -0.003674      0.011654      0.578051       1.000000      0.295968 -0.145910 -0.085438 -0.319294\n",
      "b_female_air  -0.083139 -0.021515  0.015136      -0.016909     -0.014898     -0.018331      0.332115       0.295968      1.000000 -0.073077 -0.313256 -0.086131\n",
      "asc_car        0.207104 -0.414434  0.290346      -0.233737      0.263512     -0.376148     -0.232208      -0.145910     -0.073077  1.000000  0.115643  0.668809\n",
      "asc_air        0.044058  0.236710 -0.194113       0.383631      0.861524      0.537828     -0.086565      -0.085438     -0.313256  0.115643  1.000000  0.189271\n",
      "asc_rail       0.206570 -0.273532  0.106509      -0.595398      0.266842     -0.172349     -0.157979      -0.319294     -0.086131  0.668809  0.189271  1.000000\n",
      "\n"
     ]
    }
   ],
   "source": [
    "result = Results(model, db)\n",
    "result.print_beta_statistics()\n",
    "result.print_correlation_matrix()"
   ]
  },
  {
   "cell_type": "markdown",
   "metadata": {},
   "source": [
    "Optionally, we can plot the estimation performance vs. the number of iterations. Note that the x-axis is on a log-scale."
   ]
  },
  {
   "cell_type": "code",
   "execution_count": 9,
   "metadata": {},
   "outputs": [
    {
     "data": {
      "image/png": "[encoded data removed]",
      "text/plain": [
       "<Figure size 864x216 with 3 Axes>"
      ]
     },
     "metadata": {},
     "output_type": "display_data"
    }
   ],
   "source": [
    "import seaborn as sns\n",
    "import matplotlib.pyplot as plt\n",
    "sns.set_style(\"ticks\")\n",
    "sns.set_context(\"notebook\", font_scale=1., rc={\"lines.linewidth\": 1.2})\n",
    "log = model.tracker.get_data()\n",
    "fig, axs = plt.subplots(1, 3, figsize=(12, 3), squeeze=False)\n",
    "g1 = sns.lineplot(ax=axs[0, 0], data=log, x=log.index, y=\"full_ll\", color='red') \n",
    "g2 = sns.lineplot(ax=axs[0, 1], data=log, x=log.index, y=\"lr\", color='red')\n",
    "g3 = sns.lineplot(ax=axs[0, 2],data=log, x=log.index, y=\"score\", color='red') # y = score or full_ll or lr\n",
    "g1.set(xscale=\"log\", xlabel=\"iterations\", ylabel=\"log likelihood\")\n",
    "g2.set(xscale=\"log\", xlabel=\"iterations\", ylabel=\"learning rate\")\n",
    "g3.set(xscale=\"log\", xlabel=\"iterations\", ylabel=\"accuracy\")\n",
    "sns.despine()\n",
    "plt.tight_layout()\n",
    "plt.show()"
   ]
  },
  {
   "cell_type": "markdown",
   "metadata": {},
   "source": [
    "To generate the probability outputs, we call the `Predict` class on the model `model` and the database `db`. Two methods are used: `probs()` to generate the probabilities and `choices()` to generate a pseudo-choice output by selecting the choice with the highest probability. The code below concatenates the probabilities and choices together."
   ]
  },
  {
   "cell_type": "code",
   "execution_count": 10,
   "metadata": {},
   "outputs": [
    {
     "data": {
      "text/html": [
       "<div>\n",
       "<style scoped>\n",
       "    .dataframe tbody tr th:only-of-type {\n",
       "        vertical-align: middle;\n",
       "    }\n",
       "\n",
       "    .dataframe tbody tr th {\n",
       "        vertical-align: top;\n",
       "    }\n",
       "\n",
       "    .dataframe thead th {\n",
       "        text-align: right;\n",
       "    }\n",
       "</style>\n",
       "<table border=\"1\" class=\"dataframe\">\n",
       "  <thead>\n",
       "    <tr style=\"text-align: right;\">\n",
       "      <th></th>\n",
       "      <th>0</th>\n",
       "      <th>1</th>\n",
       "      <th>2</th>\n",
       "      <th>3</th>\n",
       "      <th>CHOICE</th>\n",
       "    </tr>\n",
       "  </thead>\n",
       "  <tbody>\n",
       "    <tr>\n",
       "      <th>0</th>\n",
       "      <td>0.500824</td>\n",
       "      <td>0.058328</td>\n",
       "      <td>0.079861</td>\n",
       "      <td>0.360987</td>\n",
       "      <td>0</td>\n",
       "    </tr>\n",
       "    <tr>\n",
       "      <th>1</th>\n",
       "      <td>0.799394</td>\n",
       "      <td>0.042385</td>\n",
       "      <td>0.022220</td>\n",
       "      <td>0.136001</td>\n",
       "      <td>0</td>\n",
       "    </tr>\n",
       "    <tr>\n",
       "      <th>2</th>\n",
       "      <td>0.426353</td>\n",
       "      <td>0.189620</td>\n",
       "      <td>0.080227</td>\n",
       "      <td>0.303800</td>\n",
       "      <td>0</td>\n",
       "    </tr>\n",
       "    <tr>\n",
       "      <th>3</th>\n",
       "      <td>0.790865</td>\n",
       "      <td>0.076560</td>\n",
       "      <td>0.028311</td>\n",
       "      <td>0.104264</td>\n",
       "      <td>0</td>\n",
       "    </tr>\n",
       "    <tr>\n",
       "      <th>4</th>\n",
       "      <td>0.400649</td>\n",
       "      <td>0.535800</td>\n",
       "      <td>0.035609</td>\n",
       "      <td>0.027942</td>\n",
       "      <td>1</td>\n",
       "    </tr>\n",
       "    <tr>\n",
       "      <th>...</th>\n",
       "      <td>...</td>\n",
       "      <td>...</td>\n",
       "      <td>...</td>\n",
       "      <td>...</td>\n",
       "      <td>...</td>\n",
       "    </tr>\n",
       "    <tr>\n",
       "      <th>3995</th>\n",
       "      <td>0.745616</td>\n",
       "      <td>0.068229</td>\n",
       "      <td>0.069323</td>\n",
       "      <td>0.116833</td>\n",
       "      <td>0</td>\n",
       "    </tr>\n",
       "    <tr>\n",
       "      <th>3996</th>\n",
       "      <td>0.328118</td>\n",
       "      <td>0.044203</td>\n",
       "      <td>0.031028</td>\n",
       "      <td>0.596651</td>\n",
       "      <td>3</td>\n",
       "    </tr>\n",
       "    <tr>\n",
       "      <th>3997</th>\n",
       "      <td>0.828171</td>\n",
       "      <td>0.047431</td>\n",
       "      <td>0.039376</td>\n",
       "      <td>0.085022</td>\n",
       "      <td>0</td>\n",
       "    </tr>\n",
       "    <tr>\n",
       "      <th>3998</th>\n",
       "      <td>0.666692</td>\n",
       "      <td>0.065301</td>\n",
       "      <td>0.030652</td>\n",
       "      <td>0.237355</td>\n",
       "      <td>0</td>\n",
       "    </tr>\n",
       "    <tr>\n",
       "      <th>3999</th>\n",
       "      <td>0.733951</td>\n",
       "      <td>0.122537</td>\n",
       "      <td>0.079731</td>\n",
       "      <td>0.063781</td>\n",
       "      <td>0</td>\n",
       "    </tr>\n",
       "  </tbody>\n",
       "</table>\n",
       "<p>4000 rows × 5 columns</p>\n",
       "</div>"
      ],
      "text/plain": [
       "             0         1         2         3  CHOICE\n",
       "0     0.500824  0.058328  0.079861  0.360987       0\n",
       "1     0.799394  0.042385  0.022220  0.136001       0\n",
       "2     0.426353  0.189620  0.080227  0.303800       0\n",
       "3     0.790865  0.076560  0.028311  0.104264       0\n",
       "4     0.400649  0.535800  0.035609  0.027942       1\n",
       "...        ...       ...       ...       ...     ...\n",
       "3995  0.745616  0.068229  0.069323  0.116833       0\n",
       "3996  0.328118  0.044203  0.031028  0.596651       3\n",
       "3997  0.828171  0.047431  0.039376  0.085022       0\n",
       "3998  0.666692  0.065301  0.030652  0.237355       0\n",
       "3999  0.733951  0.122537  0.079731  0.063781       0\n",
       "\n",
       "[4000 rows x 5 columns]"
      ]
     },
     "execution_count": 10,
     "metadata": {},
     "output_type": "execute_result"
    }
   ],
   "source": [
    "from pycmtensor.results import Predict\n",
    "\n",
    "pd.concat((Predict(model, db).probs(), Predict(model, db).choices()), axis=1)"
   ]
  }
 ],
 "metadata": {
  "interpreter": {
   "hash": "778af00a7feac2b7c56e6c502df232e5aa8589a0a8675e326528fd15e3e3c67f"
  },
  "kernelspec": {
   "display_name": "Python [conda env:icmc]",
   "language": "python",
   "name": "conda-env-icmc-py"
  },
  "language_info": {
   "codemirror_mode": {
    "name": "ipython",
    "version": 3
   },
   "file_extension": ".py",
   "mimetype": "text/x-python",
   "name": "python",
   "nbconvert_exporter": "python",
   "pygments_lexer": "ipython3",
   "version": "3.9.7"
  }
 },
 "nbformat": 4,
 "nbformat_minor": 4
}
