{
 "cells": [
  {
   "cell_type": "code",
   "execution_count": 1,
   "metadata": {},
   "outputs": [
    {
     "data": {
      "text/plain": [
       "'0.6.1'"
      ]
     },
     "execution_count": 1,
     "metadata": {},
     "output_type": "execute_result"
    }
   ],
   "source": [
    "import os\n",
    "import dill as pickle\n",
    "import pandas as pd\n",
    "import pycmtensor as cmt\n",
    "from pycmtensor import aet as aet\n",
    "from pycmtensor.expressions import Beta, Weights\n",
    "from pycmtensor.optimizers import Adam\n",
    "from pycmtensor.results import Results\n",
    "from pycmtensor.models import MNLogit\n",
    "from reslogitlayer import ResLogitLayer\n",
    "\n",
    "cmt.logger.set_level(cmt.logger.WARNING)\n",
    "cmt.__version__"
   ]
  },
  {
   "cell_type": "code",
   "execution_count": 2,
   "metadata": {},
   "outputs": [],
   "source": [
    "nb_path = os.path.abspath(\"\")\n",
    "model_average_sim = pd.read_csv(\"data/model_average_sim.csv\")\n",
    "model_average_sim.columns = model_average_sim.columns.str.upper()\n",
    "# model_average_sp[[\"AV1\", \"AV2\"]] = 1\n",
    "db = cmt.Database(\"model_average_sim\", model_average_sim, choiceVar=\"CHOICE\")\n",
    "globals().update(db.variables)\n",
    "\n",
    "# additional steps to format database\n",
    "db.data[\"CHOICE\"] -= 1\n",
    "time_columns = [\"CAR_TIME\", \"AIR_TIME\", \"AIR_ACCESS\", \"RAIL_TIME\", \"RAIL_ACCESS\", \"HSR_TIME\", \"HSR_ACCESS\"]\n",
    "cost_columns = [\"CAR_COST\", \"AIR_COST\", \"RAIL_COST\", \"HSR_COST\"]\n",
    "income_columns = [\"INCOME\"]\n",
    "db.autoscale(variables=time_columns, default=60., verbose=True)\n",
    "db.autoscale(variables=cost_columns, default=100., verbose=True)\n",
    "db.autoscale(variables=income_columns, default=1000., verbose=True)"
   ]
  },
  {
   "cell_type": "code",
   "execution_count": 3,
   "metadata": {},
   "outputs": [
    {
     "name": "stdout",
     "output_type": "stream",
     "text": [
      "dataset: model_average_sim (n=4000)\n",
      "batch size: 128\n",
      "iterations per epoch: 31\n"
     ]
    },
    {
     "data": {
      "application/vnd.jupyter.widget-view+json": {
       "model_id": "60c45e4131cc43aaaad7feb6f59333fd",
       "version_major": 2,
       "version_minor": 0
      },
      "text/plain": [
       "Loglikelihood:  -5715.706  Score: 0.055"
      ]
     },
     "metadata": {},
     "output_type": "display_data"
    },
    {
     "data": {
      "application/vnd.jupyter.widget-view+json": {
       "model_id": "fe9d81b8f62949c181ad06d6b1fed096",
       "version_major": 2,
       "version_minor": 0
      },
      "text/plain": [
       "Epoch    0/24800:   0%|          | 0.00/24.8k [00:00<?, ?it/s]"
      ]
     },
     "metadata": {},
     "output_type": "display_data"
    },
    {
     "name": "stderr",
     "output_type": "stream",
     "text": [
      "[2022-03-09 14:59:22] WARNING: Maximum patience reached. Early stopping...\n"
     ]
    },
    {
     "name": "stdout",
     "output_type": "stream",
     "text": [
      "Optimization complete with accuracy of 62.450%. Max loglikelihood reached @ epoch 786.\n",
      "\n",
      "Results for model: mymodel\n",
      "Build time: 00:00:10\n",
      "Estimation time: 00:01:06\n",
      "Estimation rate: 12.198 epochs/s\n",
      "Seed value: 999\n",
      "Number of Beta parameters: 12\n",
      "Tensor size: 192\n",
      "Sample size: 4000\n",
      "Excluded data: 0\n",
      "Init loglikelihood: -5715.706\n",
      "Final loglikelihood: -3697.598\n",
      "Final loglikelihood reached at: epoch 786\n",
      "Likelihood ratio test: 4036.216\n",
      "Accuracy: 62.450%\n",
      "Rho square: 0.353\n",
      "Rho bar square: 0.317\n",
      "Akaike Information Criterion: 7803.20\n",
      "Bayesian Information Criterion: 9087.18\n",
      "Final gradient norm: 0.041\n",
      "\n"
     ]
    }
   ],
   "source": [
    "# specify Beta parameters\n",
    "b_cost = Beta(\"b_cost\", 0.0, None, None, 0)\n",
    "b_time = Beta(\"b_time\", 0.0, None, None, 0)\n",
    "b_access = Beta(\"b_access\", 0.0, None, None, 0)\n",
    "b_income_rail = Beta(\"b_income_rail\", 0.0, None, None, 0)\n",
    "b_income_hsr = Beta(\"b_income_hsr\", 0.0, None, None, 0)\n",
    "b_income_car = Beta(\"b_income_car\", 0.0, None, None, 0)\n",
    "b_female_car = Beta(\"b_female_car\", 0.0, None, None, 0)\n",
    "b_female_rail = Beta(\"b_female_rail\", 0.0, None, None, 0)\n",
    "b_female_air = Beta(\"b_female_air\", 0.0, None, None, 0)\n",
    "\n",
    "asc_car = Beta(\"asc_car\", 0.0, None, None, 0)\n",
    "asc_air = Beta(\"asc_air\", 0.0, None, None, 0)\n",
    "asc_rail = Beta(\"asc_rail\", 0.0, None, None, 0)\n",
    "asc_hsr = Beta(\"asc_hsr\", 0.0, None, None, 1)\n",
    "\n",
    "# specify weight parameters\n",
    "W1 = Weights(\"ResNet_01a\", (4, 24), 0, True)\n",
    "W2 = Weights(\"ResNet_01b\", (24, 4), 0, True)\n",
    "\n",
    "# W3 = Weights(\"ResNet_02a\", (4, 16), 0, True)\n",
    "# W4 = Weights(\"ResNet_02b\", (16, 4), 0, True)\n",
    "\n",
    "U_car = (\n",
    "    b_cost * db[\"CAR_COST\"]\n",
    "    + b_time * db[\"CAR_TIME\"]\n",
    "    + b_income_car * db[\"INCOME\"]\n",
    "    + b_female_car * db[\"FEMALE\"]\n",
    "    + asc_car\n",
    ")\n",
    "U_air = (\n",
    "    b_cost * db[\"AIR_COST\"]\n",
    "    + b_time * db[\"AIR_TIME\"]\n",
    "    + b_access * db[\"AIR_ACCESS\"]\n",
    "    + b_female_air * db[\"FEMALE\"]\n",
    "    + asc_air\n",
    ")\n",
    "U_rail = (\n",
    "    b_cost * db[\"RAIL_COST\"]\n",
    "    + b_time * db[\"RAIL_TIME\"]\n",
    "    + b_access * db[\"RAIL_ACCESS\"]\n",
    "    + b_income_rail * db[\"INCOME\"]\n",
    "    + b_female_rail * db[\"FEMALE\"]\n",
    "    + asc_rail\n",
    ")\n",
    "U_hsr = (\n",
    "    b_cost * db[\"HSR_COST\"]\n",
    "    + b_time * db[\"HSR_TIME\"]\n",
    "    + b_access * db[\"HSR_ACCESS\"]\n",
    "    + b_income_hsr * db[\"INCOME\"]\n",
    "    + asc_hsr\n",
    ")\n",
    "\n",
    "# Associate utility functions with the list\n",
    "U = [U_car, U_air, U_rail, U_hsr]\n",
    "\n",
    "U = ResLogitLayer(U, W1, W2).output\n",
    "# U = ResLogitLayer(U, W3, W4).output\n",
    "\n",
    "# Associate the availability conditions with the alternatives\n",
    "# av = [db[\"AV1\"], db[\"AV2\"]]\n",
    "\n",
    "# rll = ResLogitLayer(U, W1, W2)\n",
    "model = MNLogit(U, av=None, database=db, name=\"mymodel\")\n",
    "model.add_params(locals())\n",
    "model.config[\"patience\"] = 36000\n",
    "model.config[\"base_lr\"] = 0.0005\n",
    "model.config[\"max_lr\"] = 0.05\n",
    "model.config[\"cyclic_lr_step_size\"] = 16\n",
    "model.config[\"cyclic_lr_mode\"] = \"triangular2\"\n",
    "\n",
    "# train function\n",
    "model = cmt.train(\n",
    "    model,\n",
    "    database=db,\n",
    "    optimizer=Adam,\n",
    "    batch_size=128,\n",
    "    max_epoch=800,\n",
    "    notebook=True,\n",
    ")\n",
    "\n",
    "with open(\"mymodel.pkl\", \"rb\") as f:\n",
    "    model = pickle.load(f)\n",
    "\n",
    "result = Results(model, db, show_weights=True)\n"
   ]
  },
  {
   "cell_type": "code",
   "execution_count": 4,
   "metadata": {},
   "outputs": [
    {
     "name": "stdout",
     "output_type": "stream",
     "text": [
      "Statistical Analysis:\n",
      "                  Value   Std err     t-test   p-value Rob. Std err Rob. t-test Rob. p-value\n",
      "asc_air       -0.915045  0.164181  -5.573391       0.0      0.01532  -59.729614          0.0\n",
      "asc_car        0.483333  0.169853   2.845601  0.004433      0.00613   78.853075          0.0\n",
      "asc_rail      -0.698094  0.257453  -2.711537  0.006697     0.092197   -7.571768          0.0\n",
      "b_access      -0.375046  0.087606  -4.281076  0.000019      0.01618  -23.178942          0.0\n",
      "b_cost        -2.532682  0.103871 -24.383024       0.0     0.015423 -164.209815          0.0\n",
      "b_female_air   0.473254  0.088019   5.376724       0.0     0.014379   32.912231          0.0\n",
      "b_female_car   0.112798  0.078745   1.432451  0.152015     0.018722    6.024926          0.0\n",
      "b_female_rail  0.363635  0.143337    2.53693  0.011183     0.027333   13.303711          0.0\n",
      "b_income_car  -0.287223  0.084797  -3.387187  0.000706     0.003407   -84.29716          0.0\n",
      "b_income_hsr  -0.113183   0.08025  -1.410374  0.158429     0.007101  -15.937892          0.0\n",
      "b_income_rail -0.565245   0.13344  -4.235934  0.000023      0.03062  -18.460043          0.0\n",
      "b_time        -0.282464  0.020704 -13.643113       0.0     0.005489  -51.462922          0.0\n",
      "\n",
      "Correlation matrix:\n",
      "                 b_cost    b_time  b_access  b_income_rail  b_income_hsr  b_income_car  b_female_car  b_female_rail  b_female_air   asc_car   asc_air  asc_rail\n",
      "b_cost         1.000000  0.108708  0.062861       0.037050      0.044910      0.051668     -0.057854      -0.048040     -0.099951  0.225796  0.071696  0.178568\n",
      "b_time         0.108708  1.000000  0.039485       0.003539      0.004511     -0.000322     -0.021168      -0.014898     -0.014939 -0.443813  0.246903 -0.255108\n",
      "b_access       0.062861  0.039485  1.000000      -0.025001     -0.018410     -0.016246      0.000064      -0.009911      0.005658  0.289489 -0.183782  0.080278\n",
      "b_income_rail  0.037050  0.003539 -0.025001       1.000000      0.348287      0.554685      0.009162       0.020446     -0.027101 -0.197874  0.315638 -0.670781\n",
      "b_income_hsr   0.044910  0.004511 -0.018410       0.348287      1.000000      0.636235     -0.017206      -0.005798     -0.049760  0.282399  0.872077  0.251552\n",
      "b_income_car   0.051668 -0.000322 -0.016246       0.554685      0.636235      1.000000      0.011438       0.013985     -0.039842 -0.339736  0.560524 -0.143389\n",
      "b_female_car  -0.057854 -0.021168  0.000064       0.009162     -0.017206      0.011438      1.000000       0.518335      0.371714 -0.246155 -0.104808 -0.162755\n",
      "b_female_rail -0.048040 -0.014898 -0.009911       0.020446     -0.005798      0.013985      0.518335       1.000000      0.276083 -0.140940 -0.072501 -0.326006\n",
      "b_female_air  -0.099951 -0.014939  0.005658      -0.027101     -0.049760     -0.039842      0.371714       0.276083      1.000000 -0.096996 -0.326769 -0.087726\n",
      "asc_car        0.225796 -0.443813  0.289489      -0.197874      0.282399     -0.339736     -0.246155      -0.140940     -0.096996  1.000000  0.120993  0.599318\n",
      "asc_air        0.071696  0.246903 -0.183782       0.315638      0.872077      0.560524     -0.104808      -0.072501     -0.326769  0.120993  1.000000  0.172829\n",
      "asc_rail       0.178568 -0.255108  0.080278      -0.670781      0.251552     -0.143389     -0.162755      -0.326006     -0.087726  0.599318  0.172829  1.000000\n",
      "\n",
      "ResNet_01a (4, 24) init: random\n",
      "[[ 0.57555698  1.18319437 -0.25950767  1.12562525  0.86408902  0.44926951\n",
      "  -0.05553102 -0.20583502 -0.04781938  0.47860952  0.25962609 -0.3401093\n",
      "  -0.44002662  0.43686832  0.33656515  0.71765625  0.40178899  1.44164676\n",
      "  -1.32317263  0.17858556  0.99793304 -0.37174188 -0.64283689  1.10275294]\n",
      " [ 2.20111266  1.63489657 -0.23867965  0.94073192  1.66479324 -1.51575458\n",
      "  -1.68837569  0.48839837 -0.46553729  0.40526255  1.55718562 -0.60201127\n",
      "  -0.15480972 -0.28500673  0.67709453  1.26015104  1.00043768  0.23722021\n",
      "  -0.66772835 -0.39199214  0.19916331 -1.48371556  2.34352904  1.24022296]\n",
      " [-0.43472671  0.53034291  0.75605208  0.3249316  -1.7506294   0.41802518\n",
      "   0.96136314  0.43276797  0.52981938  0.60703937  0.17674033  0.31288383\n",
      "   0.64331309 -0.54990024  0.48553682  0.20405689  0.21637503 -1.31133413\n",
      "  -0.11026396 -0.43194048 -0.81147758  1.2797805  -0.45102388  0.41397357]\n",
      " [-1.89025562 -0.42889618 -0.18153533 -2.23936436 -1.15420036  1.30851751\n",
      "   1.45694387 -0.66901977  0.3366923  -0.94327312 -2.18535966 -0.46803994\n",
      "   0.01769883 -0.23545833 -0.124121   -2.12960838 -0.75641369 -0.23988487\n",
      "   1.86335697 -0.15843433 -0.15896819 -0.52542956 -0.4201078   0.51839099]]\n",
      "\n",
      "ResNet_01b (24, 4) init: random\n",
      "[[ 0.43944173  1.09028377 -0.95272527  0.18236103]\n",
      " [ 0.13097417  0.02282923 -0.11321973 -0.45362376]\n",
      " [-1.16371507 -0.36525694  0.46073328  0.12509893]\n",
      " [ 0.60917586  1.55055768  0.21327904 -0.96765952]\n",
      " [ 0.41959054  0.18494707  0.15207635 -1.42177432]\n",
      " [ 0.80426597 -1.28116162 -1.23313005  0.08181649]\n",
      " [ 0.68174559 -2.09237408 -1.09932168  0.93435244]\n",
      " [-0.9969506  -0.5256357   0.52787558  0.02720876]\n",
      " [-0.70355993 -0.94856721  0.27078369  0.58549441]\n",
      " [-0.56351761 -0.63615897  0.40817793 -0.02503605]\n",
      " [-0.02039469  0.10361399  0.23280914 -0.97127223]\n",
      " [ 0.14894984 -0.6784927  -0.07210055  0.06410103]\n",
      " [-0.90280421 -0.1486585   0.56334997  0.10098247]\n",
      " [ 0.19856728 -0.42355265 -0.31741789  0.33778265]\n",
      " [-0.29220627 -0.12761046  0.48636991 -0.24131524]\n",
      " [ 0.72450037  1.16603347  0.5244081  -0.66905769]\n",
      " [ 0.03362393 -0.21513177  0.52923527  0.12182125]\n",
      " [ 1.01721589 -0.73275486 -0.40287483 -0.07000243]\n",
      " [-0.33220969 -2.32690681 -0.38496098  0.11937973]\n",
      " [ 0.2190781  -0.39088952 -0.44467585  0.26930653]\n",
      " [ 0.86474189  0.32076736 -0.80787559  0.17849507]\n",
      " [ 0.28847316 -0.75538336  0.11270909  0.40470351]\n",
      " [ 0.96348633 -0.57305944 -0.44917059 -1.35669336]\n",
      " [ 0.07734246 -0.18320665 -0.3181961  -0.11124727]]\n",
      "\n"
     ]
    }
   ],
   "source": [
    "result.print_beta_statistics()\n",
    "result.print_correlation_matrix()\n",
    "result.print_nn_weights()\n"
   ]
  },
  {
   "cell_type": "code",
   "execution_count": 5,
   "metadata": {},
   "outputs": [
    {
     "data": {
      "image/png": "[encoded data removed]",
      "text/plain": [
       "<Figure size 864x216 with 3 Axes>"
      ]
     },
     "metadata": {},
     "output_type": "display_data"
    }
   ],
   "source": [
    "import seaborn as sns\n",
    "import matplotlib.pyplot as plt\n",
    "sns.set_style(\"ticks\")\n",
    "sns.set_context(\"notebook\", font_scale=1., rc={\"lines.linewidth\": 1.2})\n",
    "log = model.tracker.get_data()\n",
    "fig, axs = plt.subplots(1, 3, figsize=(12, 3), squeeze=False)\n",
    "g1 = sns.lineplot(ax=axs[0, 0], data=log, x=log.index, y=\"full_ll\", color='red') \n",
    "g2 = sns.lineplot(ax=axs[0, 1], data=log, x=log.index, y=\"lr\", color='red')\n",
    "g3 = sns.lineplot(ax=axs[0, 2],data=log, x=log.index, y=\"score\", color='red') # y = score or full_ll or lr\n",
    "g1.set(xscale=\"log\", xlabel=\"iterations\", ylabel=\"log likelihood\")\n",
    "g2.set(xscale=\"log\", xlabel=\"iterations\", ylabel=\"learning rate\")\n",
    "g3.set(xscale=\"log\", xlabel=\"iterations\", ylabel=\"accuracy\")\n",
    "sns.despine()\n",
    "plt.tight_layout()\n",
    "plt.show()"
   ]
  }
 ],
 "metadata": {
  "interpreter": {
   "hash": "575f4c83e6c945bf6b436f32137fdb9e47ae52ca23c478d1236c3bc0f888c6b0"
  },
  "kernelspec": {
   "display_name": "Python 3.9.7 ('icmc-comp')",
   "language": "python",
   "name": "python3"
  },
  "language_info": {
   "codemirror_mode": {
    "name": "ipython",
    "version": 3
   },
   "file_extension": ".py",
   "mimetype": "text/x-python",
   "name": "python",
   "nbconvert_exporter": "python",
   "pygments_lexer": "ipython3",
   "version": "3.9.7"
  },
  "orig_nbformat": 4
 },
 "nbformat": 4,
 "nbformat_minor": 2
}
